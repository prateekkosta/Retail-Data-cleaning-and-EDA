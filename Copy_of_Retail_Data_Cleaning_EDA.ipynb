{
  "nbformat": 4,
  "nbformat_minor": 0,
  "metadata": {
    "colab": {
      "provenance": [],
      "authorship_tag": "ABX9TyP71aIlL8lEtnNQd0jecPKU",
      "include_colab_link": true
    },
    "kernelspec": {
      "name": "python3",
      "display_name": "Python 3"
    },
    "language_info": {
      "name": "python"
    }
  },
  "cells": [
    {
      "cell_type": "markdown",
      "metadata": {
        "id": "view-in-github",
        "colab_type": "text"
      },
      "source": [
        "<a href=\"https://colab.research.google.com/github/prateekkosta/Retail-Data-cleaning-and-EDA/blob/main/Copy_of_Retail_Data_Cleaning_EDA.ipynb\" target=\"_parent\"><img src=\"https://colab.research.google.com/assets/colab-badge.svg\" alt=\"Open In Colab\"/></a>"
      ]
    },
    {
      "cell_type": "markdown",
      "source": [
        "**Objective**- Perform EDA to find out how many customers are happy with the product and service provided by the retail company."
      ],
      "metadata": {
        "id": "f4Zvi2EDY9Me"
      }
    },
    {
      "cell_type": "code",
      "execution_count": null,
      "metadata": {
        "id": "uDEWmy36Yez5"
      },
      "outputs": [],
      "source": [
        "import os\n",
        "import numpy as np\n",
        "import pandas as pd\n",
        "import matplotlib.pyplot as plt\n",
        "import seaborn as sns"
      ]
    },
    {
      "cell_type": "code",
      "source": [],
      "metadata": {
        "id": "dpbFhhI1Y5rS"
      },
      "execution_count": null,
      "outputs": []
    },
    {
      "cell_type": "markdown",
      "source": [
        "**Reading Data**"
      ],
      "metadata": {
        "id": "GwrWZOa1aPqw"
      }
    },
    {
      "cell_type": "code",
      "source": [
        "dirty_data= pd.read_csv('dirty_data.csv')\n",
        "dirty_data.head()"
      ],
      "metadata": {
        "id": "fatH6QHTY5to"
      },
      "execution_count": null,
      "outputs": []
    },
    {
      "cell_type": "code",
      "source": [],
      "metadata": {
        "id": "yyVzS2u4Y5wQ"
      },
      "execution_count": null,
      "outputs": []
    },
    {
      "cell_type": "markdown",
      "source": [
        "Get The Description of Data"
      ],
      "metadata": {
        "id": "iDQWOlJwayNI"
      }
    },
    {
      "cell_type": "code",
      "source": [
        "dirty_data.describe()"
      ],
      "metadata": {
        "id": "A1F4oQL6Y508"
      },
      "execution_count": null,
      "outputs": []
    },
    {
      "cell_type": "code",
      "source": [
        "# Shape of the Data\n",
        "print('Shape of the Dirty data=', dirty_data.shape)"
      ],
      "metadata": {
        "id": "Gt3eo93BY53n"
      },
      "execution_count": null,
      "outputs": []
    },
    {
      "cell_type": "markdown",
      "source": [
        "Checking Null values"
      ],
      "metadata": {
        "id": "ivLPxnv1Vm9j"
      }
    },
    {
      "cell_type": "code",
      "source": [
        "# check for null values\n",
        "print(dirty_data.isnull().sum())"
      ],
      "metadata": {
        "id": "s0laEm_rY56L"
      },
      "execution_count": null,
      "outputs": []
    },
    {
      "cell_type": "markdown",
      "source": [
        "**Box Plot for Checking Ouliers with missing values**"
      ],
      "metadata": {
        "id": "CrBapZOfV-2w"
      }
    },
    {
      "cell_type": "code",
      "source": [
        "plt.figure(figsize=(8,8))\n",
        "dirty_data.boxplot(column=['delivery_charges', 'order_price'])\n",
        "plt.title('Box plot on Columns with Null values')\n",
        "plt.xlabel('Columns')\n",
        "plt.ylabel('Values')\n",
        "plt.show()"
      ],
      "metadata": {
        "id": "dZxfzC2nY58w"
      },
      "execution_count": null,
      "outputs": []
    },
    {
      "cell_type": "markdown",
      "source": [
        "**Replacing of Null Values with Mean, Median and Mode**"
      ],
      "metadata": {
        "id": "yKv-bI2gYkXa"
      }
    },
    {
      "cell_type": "code",
      "source": [
        "# replacing null values of Delivery Charges with mean\n",
        "\n",
        "dirty_data['delivery_charges'].fillna(dirty_data['delivery_charges'].mean(), inplace= True)"
      ],
      "metadata": {
        "id": "HQa4K3iOY5_L"
      },
      "execution_count": null,
      "outputs": []
    },
    {
      "cell_type": "code",
      "source": [
        "# replacing null values of Order Price with Median because it has multiple outliers\n",
        "\n",
        "dirty_data['order_price'].fillna(dirty_data['order_price'].median(), inplace= True)"
      ],
      "metadata": {
        "id": "gpdtnryTY6Cg"
      },
      "execution_count": null,
      "outputs": []
    },
    {
      "cell_type": "code",
      "source": [
        "# replacing null values of Is Happy Customer column with Mode because binary balue columns are replaced with mode\n",
        "\n",
        "dirty_data['is_happy_customer'].fillna(dirty_data['is_happy_customer'].mode()[0], inplace= True)"
      ],
      "metadata": {
        "id": "NcvkZCReY6Fh"
      },
      "execution_count": null,
      "outputs": []
    },
    {
      "cell_type": "code",
      "source": [
        "dirty_data['is_happy_customer'].mode()"
      ],
      "metadata": {
        "id": "NTuq_aK8dmhY"
      },
      "execution_count": null,
      "outputs": []
    },
    {
      "cell_type": "code",
      "source": [
        "# again checking for null values\n",
        "\n",
        "print(dirty_data.isnull().sum())"
      ],
      "metadata": {
        "id": "kKsvpLX0Y6H3"
      },
      "execution_count": null,
      "outputs": []
    },
    {
      "cell_type": "code",
      "source": [
        "# checking the data type\n",
        "\n",
        "print(dirty_data.dtypes)\n",
        "\n"
      ],
      "metadata": {
        "id": "s06C_JjEY6Kw"
      },
      "execution_count": null,
      "outputs": []
    },
    {
      "cell_type": "markdown",
      "source": [
        "Conversion of Datatype"
      ],
      "metadata": {
        "id": "3GZ9Tko4e6Jj"
      }
    },
    {
      "cell_type": "code",
      "source": [
        "\n",
        "# Converting Date column into Date time format\n",
        "\n",
        "dirty_data.date= pd.to_datetime(dirty_data['date'])"
      ],
      "metadata": {
        "id": "TKRV7ZZ-esms"
      },
      "execution_count": null,
      "outputs": []
    },
    {
      "cell_type": "code",
      "source": [
        "print(dirty_data['date'].dtypes)"
      ],
      "metadata": {
        "id": "U4Gc1z1Aes3W"
      },
      "execution_count": null,
      "outputs": []
    },
    {
      "cell_type": "markdown",
      "source": [
        "**Sanity Check Of Data**"
      ],
      "metadata": {
        "id": "NPDC5fQ9f9Yn"
      }
    },
    {
      "cell_type": "code",
      "source": [
        "# Cheking for Unique Data in Order ID column\n",
        "\n",
        "if dirty_data.order_id.is_unique:\n",
        "  print('Data in Order Id is Unique.')\n",
        "else:\n",
        "  print('Data in Order Id in not Unique.')"
      ],
      "metadata": {
        "id": "d28NpbB6es59"
      },
      "execution_count": null,
      "outputs": []
    },
    {
      "cell_type": "code",
      "source": [
        "# checking for unique values in Column\n",
        "\n",
        "dirty_data['nearest_warehouse'].unique()"
      ],
      "metadata": {
        "id": "Yja6QdOOes8x"
      },
      "execution_count": null,
      "outputs": []
    },
    {
      "cell_type": "code",
      "source": [
        "# using Regular Expression for cleaning the data\n",
        "\n",
        "pattern= '\\d+' #matches one or more digits\n",
        "masked = dirty_data['nearest_warehouse'].str.contains(pattern, regex= True)\n",
        "result = dirty_data[masked]\n",
        "result"
      ],
      "metadata": {
        "id": "lNuhqc2vetBo"
      },
      "execution_count": null,
      "outputs": []
    },
    {
      "cell_type": "code",
      "source": [
        "# replacing data\n",
        "dirty_data['nearest_warehouse']= dirty_data['nearest_warehouse'].str.replace('\\d+', '')\n",
        "dirty_data.head()"
      ],
      "metadata": {
        "id": "I-k13NByetE4"
      },
      "execution_count": null,
      "outputs": []
    },
    {
      "cell_type": "code",
      "source": [
        "# corrected Data\n",
        "dirty_data['nearest_warehouse'].unique()"
      ],
      "metadata": {
        "id": "PZ4XoxEHetHl"
      },
      "execution_count": null,
      "outputs": []
    },
    {
      "cell_type": "code",
      "source": [
        "# Checking unique values in Order Total column\n",
        "\n",
        "dirty_data['order_total'].unique()"
      ],
      "metadata": {
        "id": "FaHSYfhTetKb"
      },
      "execution_count": null,
      "outputs": []
    },
    {
      "cell_type": "code",
      "source": [
        "pattern= '[a-zA-Z\\W]'\n",
        "masked= dirty_data['order_total'].str.contains(pattern, regex= True)\n",
        "result= dirty_data[masked]\n",
        "result"
      ],
      "metadata": {
        "id": "xjZTzblvetNO"
      },
      "execution_count": null,
      "outputs": []
    },
    {
      "cell_type": "code",
      "source": [
        "# Replacing anything from column containing ALphabet or special character.\n",
        "# dirty_data['order_total']= dirty_data['order_total'].str.replace('[a-zA-Z\\W]', '') # this method also removed the special characters like (.)\n",
        "# correct code will be...\n",
        "\n",
        "dirty_data['order_total']=  dirty_data['order_total'].str.replace('[^0-9.]', '')\n"
      ],
      "metadata": {
        "id": "9F47doy9etPy"
      },
      "execution_count": null,
      "outputs": []
    },
    {
      "cell_type": "code",
      "source": [
        "dirty_data['order_total']= dirty_data['order_total'].astype('float64')"
      ],
      "metadata": {
        "id": "6IaIbgEd04JA"
      },
      "execution_count": null,
      "outputs": []
    },
    {
      "cell_type": "code",
      "source": [
        "dirty_data.info()"
      ],
      "metadata": {
        "id": "hsZ0ipEbetSZ"
      },
      "execution_count": null,
      "outputs": []
    },
    {
      "cell_type": "code",
      "source": [
        "sum(dirty_data.order_total.values)"
      ],
      "metadata": {
        "id": "fH_-hFq8etVc"
      },
      "execution_count": null,
      "outputs": []
    },
    {
      "cell_type": "markdown",
      "source": [
        "Checking For Name Description of Data\n",
        "\n",
        "\n",
        "\n",
        "\n",
        "\n",
        "\n",
        "\n",
        "\n"
      ],
      "metadata": {
        "id": "_fS12NyJ1jkC"
      }
    },
    {
      "cell_type": "code",
      "source": [
        "dirty_data['nearest_warehouse'].unique()"
      ],
      "metadata": {
        "id": "fSYWVXlGetYL"
      },
      "execution_count": null,
      "outputs": []
    },
    {
      "cell_type": "code",
      "source": [
        "#Convert the values into similar names\n",
        "\n",
        "dirty_data.nearest_warehouse= dirty_data.nearest_warehouse.str.title()"
      ],
      "metadata": {
        "id": "xV2XEwvcetbC"
      },
      "execution_count": null,
      "outputs": []
    },
    {
      "cell_type": "code",
      "source": [
        "dirty_data.nearest_warehouse.unique()"
      ],
      "metadata": {
        "id": "vNYiK1IIetdl"
      },
      "execution_count": null,
      "outputs": []
    },
    {
      "cell_type": "code",
      "source": [
        "#Count of Unique values in Column\n",
        "warehouse= dirty_data.nearest_warehouse.value_counts()\n",
        "print(warehouse)"
      ],
      "metadata": {
        "id": "d4qLXgycetg1"
      },
      "execution_count": null,
      "outputs": []
    },
    {
      "cell_type": "markdown",
      "source": [
        "**Bar Chart and Pie Chart**"
      ],
      "metadata": {
        "id": "Oa37FS6S4WxS"
      }
    },
    {
      "cell_type": "code",
      "source": [
        "# Visualization of Unique  values in Nearest Warehouse Column\n",
        "\n",
        "warehouse.plot(kind='bar', rot=1, color=['r','b', 'g'],figsize=(5,5)),\n",
        "plt.title('Quantity of Warehouse\\n', size= 15)\n",
        "plt.ylabel('Counts');"
      ],
      "metadata": {
        "id": "3-yHY6GHetjV"
      },
      "execution_count": null,
      "outputs": []
    },
    {
      "cell_type": "code",
      "source": [
        "#plotting Pie chart for checking % share of each warehouse\n",
        "\n",
        "plt.pie(warehouse,\n",
        "        labels=['Thompson', 'Nickolson', 'Bakers'],\n",
        "        autopct=\"%0.1f%%\",\n",
        "        explode=[0,.01,.1],\n",
        "        startangle=60, radius=.8)\n",
        "plt.title(\"Quantity of Warehouses\", size= 15)\n",
        "plt.show()"
      ],
      "metadata": {
        "id": "ugfjSQUhetl9"
      },
      "execution_count": null,
      "outputs": []
    },
    {
      "cell_type": "markdown",
      "source": [
        "**Analyzing order price and Order Total**\n",
        "\n",
        "\n",
        "1.   Order_Price= Price Before any discount or delivery charges\n",
        "2.   Order_Total= Price after all discount and delivery charges applied\n",
        "\n",
        "\n",
        "\n",
        "\n",
        "\n",
        "\n"
      ],
      "metadata": {
        "id": "ljDqTRij9eqR"
      }
    },
    {
      "cell_type": "markdown",
      "source": [
        "**Get Max and Min Values**"
      ],
      "metadata": {
        "id": "2UvVszrj-j4s"
      }
    },
    {
      "cell_type": "code",
      "source": [
        "# Checking for maximum valued order\n",
        "dirty_data[dirty_data.order_price== dirty_data.order_price.max()]"
      ],
      "metadata": {
        "id": "OGgHftQpetqt"
      },
      "execution_count": null,
      "outputs": []
    },
    {
      "cell_type": "code",
      "source": [
        "# Checking for Minimum valued order\n",
        "dirty_data[dirty_data.order_price== dirty_data.order_price.min()]"
      ],
      "metadata": {
        "id": "Np1BJ0y7etuj"
      },
      "execution_count": null,
      "outputs": []
    },
    {
      "cell_type": "markdown",
      "source": [
        "Let's Check Calculation"
      ],
      "metadata": {
        "id": "QCyvf5vaAAHN"
      }
    },
    {
      "cell_type": "code",
      "source": [
        "# Checking for the order total if all the discount and delivery charges applied is correct\n",
        "\n",
        "dirty_data.loc[:,['order_price', 'delivery_charges', 'coupon_discount', 'order_total']].head(10)"
      ],
      "metadata": {
        "id": "chpHW4sOetxJ"
      },
      "execution_count": null,
      "outputs": []
    },
    {
      "cell_type": "code",
      "source": [
        "# Formula: (order_price - (order_price\t*coupon_discount)/100) + delivery_charges= Final_Price"
      ],
      "metadata": {
        "id": "yKXZXThOetz6"
      },
      "execution_count": null,
      "outputs": []
    },
    {
      "cell_type": "markdown",
      "source": [
        "First Check for 10 recordes to correct and varify calculations"
      ],
      "metadata": {
        "id": "P_sMFP0TDQpL"
      }
    },
    {
      "cell_type": "code",
      "source": [
        "for i, index in enumerate(range(0,10)):\n",
        "    if(dirty_data['coupon_discount'][i]!= 0):\n",
        "      dis_price= (dirty_data['order_price'][i]-((dirty_data['order_price'][i])* (dirty_data['coupon_discount'][i])) /100) #calculation of discounted price\n",
        "      price= dis_price + dirty_data['delivery_charges'][i] #adding delivery charges\n",
        "      final_price= np.round(price,2)\n",
        "\n",
        "    else:\n",
        "      final_price= dirty_data['order_price'][i]+ dirty_data['delivery_charges'][i] #adding oorder price and delivery charges\n",
        "      final_price= np.round(final_price,2) # rounding off upto 2 decimal places\n",
        "\n",
        "    print(f'Order total of record at index {index} is: {final_price} ')"
      ],
      "metadata": {
        "id": "CKE5lrwAet3G"
      },
      "execution_count": null,
      "outputs": []
    },
    {
      "cell_type": "markdown",
      "source": [
        "**Correcting the Entire Column**"
      ],
      "metadata": {
        "id": "iiQRmwkwBXyz"
      }
    },
    {
      "cell_type": "code",
      "source": [
        "lis= list()\n",
        "for i, index in enumerate(range(0, len(dirty_data['order_total']))):\n",
        "  if dirty_data['coupon_discount'][i] != 0:\n",
        "    dis_price= dirty_data['order_price'][i] - ((dirty_data['order_price'][i]* (dirty_data['coupon_discount'][i])/100))\n",
        "    price= dis_price + dirty_data['delivery_charges'][i]\n",
        "    final_price= np.round(price, 2)\n",
        "    lis.append(final_price)        #appending final prices to list\n",
        "  else:\n",
        "    price= dirty_data['order_price'][i] + dirty_data['delivery_charges'][i]\n",
        "    final_price= np.round(price, 2)\n",
        "    lis.append(final_price)"
      ],
      "metadata": {
        "id": "c4tHfeXAet6R"
      },
      "execution_count": null,
      "outputs": []
    },
    {
      "cell_type": "code",
      "source": [
        "print(f'Items (price) in the list : {len(lis)}')"
      ],
      "metadata": {
        "id": "YzdZMWy8et9B"
      },
      "execution_count": null,
      "outputs": []
    },
    {
      "cell_type": "markdown",
      "source": [
        "**Outlier Check**"
      ],
      "metadata": {
        "id": "o9vz7Y39GD27"
      }
    },
    {
      "cell_type": "code",
      "source": [
        "dirty_data['order_total']= pd.Series(lis)"
      ],
      "metadata": {
        "id": "AzHlaEJeet_t"
      },
      "execution_count": null,
      "outputs": []
    },
    {
      "cell_type": "code",
      "source": [
        "Q1_order_total= dirty_data['order_total'].quantile(.25)       #Lower Quantile\n",
        "Q3_order_total= dirty_data['order_total'].quantile(.75)        #Upper Quantile\n",
        "\n",
        "print(f'Lower Quantile is : {Q1_order_total}')\n",
        "print(f'Upper Quantile is : {Q3_order_total}')"
      ],
      "metadata": {
        "id": "T5rLPx8teuCb"
      },
      "execution_count": null,
      "outputs": []
    },
    {
      "cell_type": "code",
      "source": [
        "#Upper Quantile - Lower Quantile\n",
        "\n",
        "IQR_order_total= Q3_order_total - Q1_order_total\n",
        "print(f'Inter Quantile Range for Order Total is :{IQR_order_total}')"
      ],
      "metadata": {
        "id": "XjY533T5euFy"
      },
      "execution_count": null,
      "outputs": []
    },
    {
      "cell_type": "code",
      "source": [
        "lower_limit_order_total =  Q1_order_total -1.5*IQR_order_total\n",
        "upper_limit_order_total = Q3_order_total +1.5*IQR_order_total\n",
        "\n",
        "print(f'Lower Limit of Order Total is : {lower_limit_order_total}')\n",
        "print(f'Upper Limit of Order Total is : {upper_limit_order_total}')"
      ],
      "metadata": {
        "id": "HhAKkX8leuIi"
      },
      "execution_count": null,
      "outputs": []
    },
    {
      "cell_type": "code",
      "source": [
        "#Maximum value of Order Total\n",
        "\n",
        "dirty_data[dirty_data['order_total']== dirty_data['order_total'].max()]"
      ],
      "metadata": {
        "id": "IWV4MkvHeuLP"
      },
      "execution_count": null,
      "outputs": []
    },
    {
      "cell_type": "code",
      "source": [
        "#Minimum Value of Order Total is\n",
        "\n",
        "dirty_data[dirty_data['order_total']== dirty_data['order_total'].min()]"
      ],
      "metadata": {
        "id": "nBfWz5eueuOL"
      },
      "execution_count": null,
      "outputs": []
    },
    {
      "cell_type": "code",
      "source": [
        "outlier_dirty_data= dirty_data[(dirty_data['order_total']< lower_limit_order_total) | (dirty_data['order_total'] > upper_limit_order_total)]\n",
        "outlier_dirty_data"
      ],
      "metadata": {
        "id": "gy08uAkqeuQ8"
      },
      "execution_count": null,
      "outputs": []
    },
    {
      "cell_type": "code",
      "source": [
        "print(f'Number of Outliers in column : {outlier_dirty_data.shape[0]}')"
      ],
      "metadata": {
        "id": "zDWPzjk1euT7"
      },
      "execution_count": null,
      "outputs": []
    },
    {
      "cell_type": "markdown",
      "source": [
        "**Removing Outliers**"
      ],
      "metadata": {
        "id": "dF-yhLxWO2Bs"
      }
    },
    {
      "cell_type": "code",
      "source": [
        "data_without_outlier= dirty_data[(dirty_data['order_total']> lower_limit_order_total) & (dirty_data['order_total']< upper_limit_order_total)]\n",
        "print(f' Data Without any Outlier : {data_without_outlier.shape[0]}')"
      ],
      "metadata": {
        "id": "2OyxY31aeuW1"
      },
      "execution_count": null,
      "outputs": []
    },
    {
      "cell_type": "markdown",
      "source": [
        "### **Finding Out Happy Customers**"
      ],
      "metadata": {
        "id": "b3GP2f7LP-bW"
      }
    },
    {
      "cell_type": "code",
      "source": [
        "data_without_outlier['is_happy_customer'].unique()\n",
        "satisfaction = data_without_outlier['is_happy_customer'].value_counts()\n",
        "print(satisfaction)"
      ],
      "metadata": {
        "id": "xypnBgI-euaV"
      },
      "execution_count": null,
      "outputs": []
    },
    {
      "cell_type": "code",
      "source": [
        "plt.figure(figsize=(15,5))\n",
        "\n",
        "plt.subplot(121)\n",
        "satisfaction.plot(kind= 'bar', color= ['g', 'b'], rot=  1)\n",
        "plt.xticks(range(2), labels= ['Satisfy', 'Not Satisfy'])\n",
        "plt.ylabel('Counts')\n",
        "plt.title('Customer Satisfaction vs Non Satisfaction\\n',  size = 15)\n",
        "\n",
        "plt.subplot(122)\n",
        "plt.pie(satisfaction, labels= ['Satisfy', 'Not Satisfy'], autopct= '%.1f%%', explode= (0,0.1),  shadow= True)\n",
        "plt.title('Percentage of Satisfied Customer vs Non Satisfiied Customers')\n",
        "\n",
        "plt.show"
      ],
      "metadata": {
        "id": "XEbftJyseudJ"
      },
      "execution_count": null,
      "outputs": []
    },
    {
      "cell_type": "code",
      "source": [],
      "metadata": {
        "id": "7xs8PJ55eui1"
      },
      "execution_count": null,
      "outputs": []
    },
    {
      "cell_type": "code",
      "source": [],
      "metadata": {
        "id": "Wmtg_8greuql"
      },
      "execution_count": null,
      "outputs": []
    },
    {
      "cell_type": "code",
      "source": [],
      "metadata": {
        "id": "rzmHNIoIeuun"
      },
      "execution_count": null,
      "outputs": []
    },
    {
      "cell_type": "code",
      "source": [],
      "metadata": {
        "id": "HY0hQTkJeuxn"
      },
      "execution_count": null,
      "outputs": []
    },
    {
      "cell_type": "code",
      "source": [],
      "metadata": {
        "id": "PLiIy5I4eu1L"
      },
      "execution_count": null,
      "outputs": []
    },
    {
      "cell_type": "code",
      "source": [],
      "metadata": {
        "id": "XzPlUP3Ueu5C"
      },
      "execution_count": null,
      "outputs": []
    },
    {
      "cell_type": "code",
      "source": [],
      "metadata": {
        "id": "CEhuuSvNeu72"
      },
      "execution_count": null,
      "outputs": []
    },
    {
      "cell_type": "code",
      "source": [],
      "metadata": {
        "id": "LsQ6Lobgeu_B"
      },
      "execution_count": null,
      "outputs": []
    },
    {
      "cell_type": "code",
      "source": [],
      "metadata": {
        "id": "jQyrLym-evCi"
      },
      "execution_count": null,
      "outputs": []
    },
    {
      "cell_type": "code",
      "source": [],
      "metadata": {
        "id": "PzK_hKYXevGI"
      },
      "execution_count": null,
      "outputs": []
    },
    {
      "cell_type": "code",
      "source": [],
      "metadata": {
        "id": "pDXseou2evLi"
      },
      "execution_count": null,
      "outputs": []
    },
    {
      "cell_type": "code",
      "source": [],
      "metadata": {
        "id": "BUvHGCCcevPC"
      },
      "execution_count": null,
      "outputs": []
    },
    {
      "cell_type": "code",
      "source": [],
      "metadata": {
        "id": "Sos1t4DZevTc"
      },
      "execution_count": null,
      "outputs": []
    },
    {
      "cell_type": "code",
      "source": [],
      "metadata": {
        "id": "uA6rASdAevW1"
      },
      "execution_count": null,
      "outputs": []
    },
    {
      "cell_type": "code",
      "source": [],
      "metadata": {
        "id": "9t1Q1Xv6evbZ"
      },
      "execution_count": null,
      "outputs": []
    },
    {
      "cell_type": "code",
      "source": [],
      "metadata": {
        "id": "Mh_7D1RFeveu"
      },
      "execution_count": null,
      "outputs": []
    },
    {
      "cell_type": "code",
      "source": [],
      "metadata": {
        "id": "bujAfSeueviU"
      },
      "execution_count": null,
      "outputs": []
    },
    {
      "cell_type": "code",
      "source": [],
      "metadata": {
        "id": "n32ePuSfevlp"
      },
      "execution_count": null,
      "outputs": []
    },
    {
      "cell_type": "code",
      "source": [],
      "metadata": {
        "id": "B8sNV4Jyevoz"
      },
      "execution_count": null,
      "outputs": []
    },
    {
      "cell_type": "code",
      "source": [],
      "metadata": {
        "id": "Kqf5ajdhevrz"
      },
      "execution_count": null,
      "outputs": []
    },
    {
      "cell_type": "code",
      "source": [],
      "metadata": {
        "id": "UDmGKdTuevuq"
      },
      "execution_count": null,
      "outputs": []
    },
    {
      "cell_type": "code",
      "source": [],
      "metadata": {
        "id": "8ZxegmBmevxh"
      },
      "execution_count": null,
      "outputs": []
    },
    {
      "cell_type": "code",
      "source": [],
      "metadata": {
        "id": "b6rYPavvY6M8"
      },
      "execution_count": null,
      "outputs": []
    },
    {
      "cell_type": "code",
      "source": [],
      "metadata": {
        "id": "eCftA1mzY6PM"
      },
      "execution_count": null,
      "outputs": []
    }
  ]
}