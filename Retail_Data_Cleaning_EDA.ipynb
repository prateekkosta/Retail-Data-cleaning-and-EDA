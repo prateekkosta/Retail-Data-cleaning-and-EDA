{
  "nbformat": 4,
  "nbformat_minor": 0,
  "metadata": {
    "colab": {
      "provenance": [],
      "authorship_tag": "ABX9TyPVxe9RYxgTolnS1D+7gpum",
      "include_colab_link": true
    },
    "kernelspec": {
      "name": "python3",
      "display_name": "Python 3"
    },
    "language_info": {
      "name": "python"
    }
  },
  "cells": [
    {
      "cell_type": "markdown",
      "metadata": {
        "id": "view-in-github",
        "colab_type": "text"
      },
      "source": [
        "<a href=\"https://colab.research.google.com/github/prateekkosta/Retail-Data-cleaning-and-EDA/blob/main/Retail_Data_Cleaning_EDA.ipynb\" target=\"_parent\"><img src=\"https://colab.research.google.com/assets/colab-badge.svg\" alt=\"Open In Colab\"/></a>"
      ]
    },
    {
      "cell_type": "markdown",
      "source": [
        "**Objective**- Perform EDA to find out how many customers are happy with the product and service provided by the retail company."
      ],
      "metadata": {
        "id": "f4Zvi2EDY9Me"
      }
    },
    {
      "cell_type": "code",
      "execution_count": 32,
      "metadata": {
        "id": "uDEWmy36Yez5"
      },
      "outputs": [],
      "source": [
        "import os\n",
        "import numpy as np\n",
        "import pandas as pd\n",
        "import matplotlib.pyplot as plt\n",
        "import seaborn as sns"
      ]
    },
    {
      "cell_type": "code",
      "source": [],
      "metadata": {
        "id": "dpbFhhI1Y5rS"
      },
      "execution_count": 32,
      "outputs": []
    },
    {
      "cell_type": "markdown",
      "source": [
        "**Reading Data**"
      ],
      "metadata": {
        "id": "GwrWZOa1aPqw"
      }
    },
    {
      "cell_type": "code",
      "source": [
        "dirty_data= pd.read_csv('dirty_data.csv')\n",
        "dirty_data.head()"
      ],
      "metadata": {
        "colab": {
          "base_uri": "https://localhost:8080/",
          "height": 478
        },
        "id": "fatH6QHTY5to",
        "outputId": "e365e016-cd22-4130-b6e4-e95164f02a78"
      },
      "execution_count": 33,
      "outputs": [
        {
          "output_type": "execute_result",
          "data": {
            "text/plain": [
              "    order_id   customer_id        date nearest_warehouse  \\\n",
              "0  ORD182494  ID6197211592  22/06/2019          Thompson   \n",
              "1  ORD395518  ID0282825849  29/12/2019          Thompson   \n",
              "2  ORD494479  ID0579391891  02/03/2019         Nickolson   \n",
              "3  ORD019224  ID4544561904  12/01/2019         Nickolson   \n",
              "4  ORD104032  ID6231506320  28/11/2019         Nickolson   \n",
              "\n",
              "                                       shopping_cart  order_price  \\\n",
              "0  [('Lucent 330S', 1), ('Thunder line', 2), ('iS...      12200.0   \n",
              "1        [('Thunder line', 1), ('Universe Note', 2)]       9080.0   \n",
              "2               [('Thunder line', 1), ('pearTV', 2)]      10670.0   \n",
              "3  [('Universe Note', 1), ('Alcon 10', 2), ('Oliv...      24800.0   \n",
              "4  [('Universe Note', 1), ('Olivia x460', 1), ('i...       9145.0   \n",
              "\n",
              "   delivery_charges  customer_lat  customer_long  coupon_discount order_total  \\\n",
              "0             79.89    -37.815105     144.932843               10    11059.89   \n",
              "1             62.71    -37.802736     144.951118                0     9142.71   \n",
              "2             65.87    -37.821302     144.957581               10     9668.87   \n",
              "3             57.61    -37.811416     144.973073               15    21137.61   \n",
              "4             75.54     37.823859     144.969892               25     6934.29   \n",
              "\n",
              "   season  is_expedited_delivery  distance_to_nearest_warehouse  \\\n",
              "0  Winter                   True                         1.2800   \n",
              "1  Summer                  False                         1.1621   \n",
              "2  Autumn                  False                         1.0949   \n",
              "3  Summer                  False                         0.8571   \n",
              "4  Spring                  False                         0.5867   \n",
              "\n",
              "                              latest_customer_review is_happy_customer  \n",
              "0  perfect phone and trusted seller. phone itself...              True  \n",
              "1  it keeps dropping calls the wifi don't work th...             False  \n",
              "2            five stars this is a great cheap phone.              True  \n",
              "3        charger did not fit the charger didn't fit.             False  \n",
              "4                                    four stars good              True  "
            ],
            "text/html": [
              "\n",
              "  <div id=\"df-7a05f957-0202-4c5a-b398-6d2e9f5f3f07\">\n",
              "    <div class=\"colab-df-container\">\n",
              "      <div>\n",
              "<style scoped>\n",
              "    .dataframe tbody tr th:only-of-type {\n",
              "        vertical-align: middle;\n",
              "    }\n",
              "\n",
              "    .dataframe tbody tr th {\n",
              "        vertical-align: top;\n",
              "    }\n",
              "\n",
              "    .dataframe thead th {\n",
              "        text-align: right;\n",
              "    }\n",
              "</style>\n",
              "<table border=\"1\" class=\"dataframe\">\n",
              "  <thead>\n",
              "    <tr style=\"text-align: right;\">\n",
              "      <th></th>\n",
              "      <th>order_id</th>\n",
              "      <th>customer_id</th>\n",
              "      <th>date</th>\n",
              "      <th>nearest_warehouse</th>\n",
              "      <th>shopping_cart</th>\n",
              "      <th>order_price</th>\n",
              "      <th>delivery_charges</th>\n",
              "      <th>customer_lat</th>\n",
              "      <th>customer_long</th>\n",
              "      <th>coupon_discount</th>\n",
              "      <th>order_total</th>\n",
              "      <th>season</th>\n",
              "      <th>is_expedited_delivery</th>\n",
              "      <th>distance_to_nearest_warehouse</th>\n",
              "      <th>latest_customer_review</th>\n",
              "      <th>is_happy_customer</th>\n",
              "    </tr>\n",
              "  </thead>\n",
              "  <tbody>\n",
              "    <tr>\n",
              "      <th>0</th>\n",
              "      <td>ORD182494</td>\n",
              "      <td>ID6197211592</td>\n",
              "      <td>22/06/2019</td>\n",
              "      <td>Thompson</td>\n",
              "      <td>[('Lucent 330S', 1), ('Thunder line', 2), ('iS...</td>\n",
              "      <td>12200.0</td>\n",
              "      <td>79.89</td>\n",
              "      <td>-37.815105</td>\n",
              "      <td>144.932843</td>\n",
              "      <td>10</td>\n",
              "      <td>11059.89</td>\n",
              "      <td>Winter</td>\n",
              "      <td>True</td>\n",
              "      <td>1.2800</td>\n",
              "      <td>perfect phone and trusted seller. phone itself...</td>\n",
              "      <td>True</td>\n",
              "    </tr>\n",
              "    <tr>\n",
              "      <th>1</th>\n",
              "      <td>ORD395518</td>\n",
              "      <td>ID0282825849</td>\n",
              "      <td>29/12/2019</td>\n",
              "      <td>Thompson</td>\n",
              "      <td>[('Thunder line', 1), ('Universe Note', 2)]</td>\n",
              "      <td>9080.0</td>\n",
              "      <td>62.71</td>\n",
              "      <td>-37.802736</td>\n",
              "      <td>144.951118</td>\n",
              "      <td>0</td>\n",
              "      <td>9142.71</td>\n",
              "      <td>Summer</td>\n",
              "      <td>False</td>\n",
              "      <td>1.1621</td>\n",
              "      <td>it keeps dropping calls the wifi don't work th...</td>\n",
              "      <td>False</td>\n",
              "    </tr>\n",
              "    <tr>\n",
              "      <th>2</th>\n",
              "      <td>ORD494479</td>\n",
              "      <td>ID0579391891</td>\n",
              "      <td>02/03/2019</td>\n",
              "      <td>Nickolson</td>\n",
              "      <td>[('Thunder line', 1), ('pearTV', 2)]</td>\n",
              "      <td>10670.0</td>\n",
              "      <td>65.87</td>\n",
              "      <td>-37.821302</td>\n",
              "      <td>144.957581</td>\n",
              "      <td>10</td>\n",
              "      <td>9668.87</td>\n",
              "      <td>Autumn</td>\n",
              "      <td>False</td>\n",
              "      <td>1.0949</td>\n",
              "      <td>five stars this is a great cheap phone.</td>\n",
              "      <td>True</td>\n",
              "    </tr>\n",
              "    <tr>\n",
              "      <th>3</th>\n",
              "      <td>ORD019224</td>\n",
              "      <td>ID4544561904</td>\n",
              "      <td>12/01/2019</td>\n",
              "      <td>Nickolson</td>\n",
              "      <td>[('Universe Note', 1), ('Alcon 10', 2), ('Oliv...</td>\n",
              "      <td>24800.0</td>\n",
              "      <td>57.61</td>\n",
              "      <td>-37.811416</td>\n",
              "      <td>144.973073</td>\n",
              "      <td>15</td>\n",
              "      <td>21137.61</td>\n",
              "      <td>Summer</td>\n",
              "      <td>False</td>\n",
              "      <td>0.8571</td>\n",
              "      <td>charger did not fit the charger didn't fit.</td>\n",
              "      <td>False</td>\n",
              "    </tr>\n",
              "    <tr>\n",
              "      <th>4</th>\n",
              "      <td>ORD104032</td>\n",
              "      <td>ID6231506320</td>\n",
              "      <td>28/11/2019</td>\n",
              "      <td>Nickolson</td>\n",
              "      <td>[('Universe Note', 1), ('Olivia x460', 1), ('i...</td>\n",
              "      <td>9145.0</td>\n",
              "      <td>75.54</td>\n",
              "      <td>37.823859</td>\n",
              "      <td>144.969892</td>\n",
              "      <td>25</td>\n",
              "      <td>6934.29</td>\n",
              "      <td>Spring</td>\n",
              "      <td>False</td>\n",
              "      <td>0.5867</td>\n",
              "      <td>four stars good</td>\n",
              "      <td>True</td>\n",
              "    </tr>\n",
              "  </tbody>\n",
              "</table>\n",
              "</div>\n",
              "      <button class=\"colab-df-convert\" onclick=\"convertToInteractive('df-7a05f957-0202-4c5a-b398-6d2e9f5f3f07')\"\n",
              "              title=\"Convert this dataframe to an interactive table.\"\n",
              "              style=\"display:none;\">\n",
              "        \n",
              "  <svg xmlns=\"http://www.w3.org/2000/svg\" height=\"24px\"viewBox=\"0 0 24 24\"\n",
              "       width=\"24px\">\n",
              "    <path d=\"M0 0h24v24H0V0z\" fill=\"none\"/>\n",
              "    <path d=\"M18.56 5.44l.94 2.06.94-2.06 2.06-.94-2.06-.94-.94-2.06-.94 2.06-2.06.94zm-11 1L8.5 8.5l.94-2.06 2.06-.94-2.06-.94L8.5 2.5l-.94 2.06-2.06.94zm10 10l.94 2.06.94-2.06 2.06-.94-2.06-.94-.94-2.06-.94 2.06-2.06.94z\"/><path d=\"M17.41 7.96l-1.37-1.37c-.4-.4-.92-.59-1.43-.59-.52 0-1.04.2-1.43.59L10.3 9.45l-7.72 7.72c-.78.78-.78 2.05 0 2.83L4 21.41c.39.39.9.59 1.41.59.51 0 1.02-.2 1.41-.59l7.78-7.78 2.81-2.81c.8-.78.8-2.07 0-2.86zM5.41 20L4 18.59l7.72-7.72 1.47 1.35L5.41 20z\"/>\n",
              "  </svg>\n",
              "      </button>\n",
              "      \n",
              "  <style>\n",
              "    .colab-df-container {\n",
              "      display:flex;\n",
              "      flex-wrap:wrap;\n",
              "      gap: 12px;\n",
              "    }\n",
              "\n",
              "    .colab-df-convert {\n",
              "      background-color: #E8F0FE;\n",
              "      border: none;\n",
              "      border-radius: 50%;\n",
              "      cursor: pointer;\n",
              "      display: none;\n",
              "      fill: #1967D2;\n",
              "      height: 32px;\n",
              "      padding: 0 0 0 0;\n",
              "      width: 32px;\n",
              "    }\n",
              "\n",
              "    .colab-df-convert:hover {\n",
              "      background-color: #E2EBFA;\n",
              "      box-shadow: 0px 1px 2px rgba(60, 64, 67, 0.3), 0px 1px 3px 1px rgba(60, 64, 67, 0.15);\n",
              "      fill: #174EA6;\n",
              "    }\n",
              "\n",
              "    [theme=dark] .colab-df-convert {\n",
              "      background-color: #3B4455;\n",
              "      fill: #D2E3FC;\n",
              "    }\n",
              "\n",
              "    [theme=dark] .colab-df-convert:hover {\n",
              "      background-color: #434B5C;\n",
              "      box-shadow: 0px 1px 3px 1px rgba(0, 0, 0, 0.15);\n",
              "      filter: drop-shadow(0px 1px 2px rgba(0, 0, 0, 0.3));\n",
              "      fill: #FFFFFF;\n",
              "    }\n",
              "  </style>\n",
              "\n",
              "      <script>\n",
              "        const buttonEl =\n",
              "          document.querySelector('#df-7a05f957-0202-4c5a-b398-6d2e9f5f3f07 button.colab-df-convert');\n",
              "        buttonEl.style.display =\n",
              "          google.colab.kernel.accessAllowed ? 'block' : 'none';\n",
              "\n",
              "        async function convertToInteractive(key) {\n",
              "          const element = document.querySelector('#df-7a05f957-0202-4c5a-b398-6d2e9f5f3f07');\n",
              "          const dataTable =\n",
              "            await google.colab.kernel.invokeFunction('convertToInteractive',\n",
              "                                                     [key], {});\n",
              "          if (!dataTable) return;\n",
              "\n",
              "          const docLinkHtml = 'Like what you see? Visit the ' +\n",
              "            '<a target=\"_blank\" href=https://colab.research.google.com/notebooks/data_table.ipynb>data table notebook</a>'\n",
              "            + ' to learn more about interactive tables.';\n",
              "          element.innerHTML = '';\n",
              "          dataTable['output_type'] = 'display_data';\n",
              "          await google.colab.output.renderOutput(dataTable, element);\n",
              "          const docLink = document.createElement('div');\n",
              "          docLink.innerHTML = docLinkHtml;\n",
              "          element.appendChild(docLink);\n",
              "        }\n",
              "      </script>\n",
              "    </div>\n",
              "  </div>\n",
              "  "
            ]
          },
          "metadata": {},
          "execution_count": 33
        }
      ]
    },
    {
      "cell_type": "code",
      "source": [],
      "metadata": {
        "id": "yyVzS2u4Y5wQ"
      },
      "execution_count": 33,
      "outputs": []
    },
    {
      "cell_type": "markdown",
      "source": [
        "Get The Description of Data"
      ],
      "metadata": {
        "id": "iDQWOlJwayNI"
      }
    },
    {
      "cell_type": "code",
      "source": [
        "dirty_data.describe()"
      ],
      "metadata": {
        "colab": {
          "base_uri": "https://localhost:8080/",
          "height": 300
        },
        "id": "A1F4oQL6Y508",
        "outputId": "33577f84-fa1e-45a6-96cd-19e34f98eced"
      },
      "execution_count": 34,
      "outputs": [
        {
          "output_type": "execute_result",
          "data": {
            "text/plain": [
              "         order_price  delivery_charges  customer_lat  customer_long  \\\n",
              "count     498.000000        496.000000    500.000000     500.000000   \n",
              "mean    25585.387550         76.679819    -35.835234     144.969494   \n",
              "std     86501.420493         14.529621     12.045393       0.022720   \n",
              "min       585.000000         46.350000    -37.827123     144.924967   \n",
              "25%      7050.000000         65.892500    -37.818222     144.953488   \n",
              "50%     12865.000000         76.335000    -37.812165     144.965357   \n",
              "75%     20360.000000         82.817500    -37.805364     144.983985   \n",
              "max    947691.000000        114.040000     37.826339     145.019837   \n",
              "\n",
              "       coupon_discount  distance_to_nearest_warehouse  \n",
              "count       500.000000                     500.000000  \n",
              "mean         10.890000                       2.204224  \n",
              "std           8.649134                       8.812416  \n",
              "min           0.000000                       0.107800  \n",
              "25%           5.000000                       0.751425  \n",
              "50%          10.000000                       1.030100  \n",
              "75%          15.000000                       1.408625  \n",
              "max          25.000000                      94.973400  "
            ],
            "text/html": [
              "\n",
              "  <div id=\"df-67b1503d-9193-4b7f-b388-97f5a700461d\">\n",
              "    <div class=\"colab-df-container\">\n",
              "      <div>\n",
              "<style scoped>\n",
              "    .dataframe tbody tr th:only-of-type {\n",
              "        vertical-align: middle;\n",
              "    }\n",
              "\n",
              "    .dataframe tbody tr th {\n",
              "        vertical-align: top;\n",
              "    }\n",
              "\n",
              "    .dataframe thead th {\n",
              "        text-align: right;\n",
              "    }\n",
              "</style>\n",
              "<table border=\"1\" class=\"dataframe\">\n",
              "  <thead>\n",
              "    <tr style=\"text-align: right;\">\n",
              "      <th></th>\n",
              "      <th>order_price</th>\n",
              "      <th>delivery_charges</th>\n",
              "      <th>customer_lat</th>\n",
              "      <th>customer_long</th>\n",
              "      <th>coupon_discount</th>\n",
              "      <th>distance_to_nearest_warehouse</th>\n",
              "    </tr>\n",
              "  </thead>\n",
              "  <tbody>\n",
              "    <tr>\n",
              "      <th>count</th>\n",
              "      <td>498.000000</td>\n",
              "      <td>496.000000</td>\n",
              "      <td>500.000000</td>\n",
              "      <td>500.000000</td>\n",
              "      <td>500.000000</td>\n",
              "      <td>500.000000</td>\n",
              "    </tr>\n",
              "    <tr>\n",
              "      <th>mean</th>\n",
              "      <td>25585.387550</td>\n",
              "      <td>76.679819</td>\n",
              "      <td>-35.835234</td>\n",
              "      <td>144.969494</td>\n",
              "      <td>10.890000</td>\n",
              "      <td>2.204224</td>\n",
              "    </tr>\n",
              "    <tr>\n",
              "      <th>std</th>\n",
              "      <td>86501.420493</td>\n",
              "      <td>14.529621</td>\n",
              "      <td>12.045393</td>\n",
              "      <td>0.022720</td>\n",
              "      <td>8.649134</td>\n",
              "      <td>8.812416</td>\n",
              "    </tr>\n",
              "    <tr>\n",
              "      <th>min</th>\n",
              "      <td>585.000000</td>\n",
              "      <td>46.350000</td>\n",
              "      <td>-37.827123</td>\n",
              "      <td>144.924967</td>\n",
              "      <td>0.000000</td>\n",
              "      <td>0.107800</td>\n",
              "    </tr>\n",
              "    <tr>\n",
              "      <th>25%</th>\n",
              "      <td>7050.000000</td>\n",
              "      <td>65.892500</td>\n",
              "      <td>-37.818222</td>\n",
              "      <td>144.953488</td>\n",
              "      <td>5.000000</td>\n",
              "      <td>0.751425</td>\n",
              "    </tr>\n",
              "    <tr>\n",
              "      <th>50%</th>\n",
              "      <td>12865.000000</td>\n",
              "      <td>76.335000</td>\n",
              "      <td>-37.812165</td>\n",
              "      <td>144.965357</td>\n",
              "      <td>10.000000</td>\n",
              "      <td>1.030100</td>\n",
              "    </tr>\n",
              "    <tr>\n",
              "      <th>75%</th>\n",
              "      <td>20360.000000</td>\n",
              "      <td>82.817500</td>\n",
              "      <td>-37.805364</td>\n",
              "      <td>144.983985</td>\n",
              "      <td>15.000000</td>\n",
              "      <td>1.408625</td>\n",
              "    </tr>\n",
              "    <tr>\n",
              "      <th>max</th>\n",
              "      <td>947691.000000</td>\n",
              "      <td>114.040000</td>\n",
              "      <td>37.826339</td>\n",
              "      <td>145.019837</td>\n",
              "      <td>25.000000</td>\n",
              "      <td>94.973400</td>\n",
              "    </tr>\n",
              "  </tbody>\n",
              "</table>\n",
              "</div>\n",
              "      <button class=\"colab-df-convert\" onclick=\"convertToInteractive('df-67b1503d-9193-4b7f-b388-97f5a700461d')\"\n",
              "              title=\"Convert this dataframe to an interactive table.\"\n",
              "              style=\"display:none;\">\n",
              "        \n",
              "  <svg xmlns=\"http://www.w3.org/2000/svg\" height=\"24px\"viewBox=\"0 0 24 24\"\n",
              "       width=\"24px\">\n",
              "    <path d=\"M0 0h24v24H0V0z\" fill=\"none\"/>\n",
              "    <path d=\"M18.56 5.44l.94 2.06.94-2.06 2.06-.94-2.06-.94-.94-2.06-.94 2.06-2.06.94zm-11 1L8.5 8.5l.94-2.06 2.06-.94-2.06-.94L8.5 2.5l-.94 2.06-2.06.94zm10 10l.94 2.06.94-2.06 2.06-.94-2.06-.94-.94-2.06-.94 2.06-2.06.94z\"/><path d=\"M17.41 7.96l-1.37-1.37c-.4-.4-.92-.59-1.43-.59-.52 0-1.04.2-1.43.59L10.3 9.45l-7.72 7.72c-.78.78-.78 2.05 0 2.83L4 21.41c.39.39.9.59 1.41.59.51 0 1.02-.2 1.41-.59l7.78-7.78 2.81-2.81c.8-.78.8-2.07 0-2.86zM5.41 20L4 18.59l7.72-7.72 1.47 1.35L5.41 20z\"/>\n",
              "  </svg>\n",
              "      </button>\n",
              "      \n",
              "  <style>\n",
              "    .colab-df-container {\n",
              "      display:flex;\n",
              "      flex-wrap:wrap;\n",
              "      gap: 12px;\n",
              "    }\n",
              "\n",
              "    .colab-df-convert {\n",
              "      background-color: #E8F0FE;\n",
              "      border: none;\n",
              "      border-radius: 50%;\n",
              "      cursor: pointer;\n",
              "      display: none;\n",
              "      fill: #1967D2;\n",
              "      height: 32px;\n",
              "      padding: 0 0 0 0;\n",
              "      width: 32px;\n",
              "    }\n",
              "\n",
              "    .colab-df-convert:hover {\n",
              "      background-color: #E2EBFA;\n",
              "      box-shadow: 0px 1px 2px rgba(60, 64, 67, 0.3), 0px 1px 3px 1px rgba(60, 64, 67, 0.15);\n",
              "      fill: #174EA6;\n",
              "    }\n",
              "\n",
              "    [theme=dark] .colab-df-convert {\n",
              "      background-color: #3B4455;\n",
              "      fill: #D2E3FC;\n",
              "    }\n",
              "\n",
              "    [theme=dark] .colab-df-convert:hover {\n",
              "      background-color: #434B5C;\n",
              "      box-shadow: 0px 1px 3px 1px rgba(0, 0, 0, 0.15);\n",
              "      filter: drop-shadow(0px 1px 2px rgba(0, 0, 0, 0.3));\n",
              "      fill: #FFFFFF;\n",
              "    }\n",
              "  </style>\n",
              "\n",
              "      <script>\n",
              "        const buttonEl =\n",
              "          document.querySelector('#df-67b1503d-9193-4b7f-b388-97f5a700461d button.colab-df-convert');\n",
              "        buttonEl.style.display =\n",
              "          google.colab.kernel.accessAllowed ? 'block' : 'none';\n",
              "\n",
              "        async function convertToInteractive(key) {\n",
              "          const element = document.querySelector('#df-67b1503d-9193-4b7f-b388-97f5a700461d');\n",
              "          const dataTable =\n",
              "            await google.colab.kernel.invokeFunction('convertToInteractive',\n",
              "                                                     [key], {});\n",
              "          if (!dataTable) return;\n",
              "\n",
              "          const docLinkHtml = 'Like what you see? Visit the ' +\n",
              "            '<a target=\"_blank\" href=https://colab.research.google.com/notebooks/data_table.ipynb>data table notebook</a>'\n",
              "            + ' to learn more about interactive tables.';\n",
              "          element.innerHTML = '';\n",
              "          dataTable['output_type'] = 'display_data';\n",
              "          await google.colab.output.renderOutput(dataTable, element);\n",
              "          const docLink = document.createElement('div');\n",
              "          docLink.innerHTML = docLinkHtml;\n",
              "          element.appendChild(docLink);\n",
              "        }\n",
              "      </script>\n",
              "    </div>\n",
              "  </div>\n",
              "  "
            ]
          },
          "metadata": {},
          "execution_count": 34
        }
      ]
    },
    {
      "cell_type": "code",
      "source": [
        "# Shape of the Data\n",
        "print('Shape of the Dirty data=', dirty_data.shape)"
      ],
      "metadata": {
        "id": "Gt3eo93BY53n",
        "colab": {
          "base_uri": "https://localhost:8080/"
        },
        "outputId": "30588fbd-115f-4ca4-a7b9-430dbd1792ad"
      },
      "execution_count": 35,
      "outputs": [
        {
          "output_type": "stream",
          "name": "stdout",
          "text": [
            "Shape of the Dirty data= (500, 16)\n"
          ]
        }
      ]
    },
    {
      "cell_type": "markdown",
      "source": [
        "Checking Null values"
      ],
      "metadata": {
        "id": "ivLPxnv1Vm9j"
      }
    },
    {
      "cell_type": "code",
      "source": [
        "# check for null values\n",
        "print(dirty_data.isnull().sum())"
      ],
      "metadata": {
        "id": "s0laEm_rY56L",
        "colab": {
          "base_uri": "https://localhost:8080/"
        },
        "outputId": "f085eee4-2694-49f3-9f48-7f155bfad25a"
      },
      "execution_count": 36,
      "outputs": [
        {
          "output_type": "stream",
          "name": "stdout",
          "text": [
            "order_id                         0\n",
            "customer_id                      0\n",
            "date                             0\n",
            "nearest_warehouse                0\n",
            "shopping_cart                    0\n",
            "order_price                      2\n",
            "delivery_charges                 4\n",
            "customer_lat                     0\n",
            "customer_long                    0\n",
            "coupon_discount                  0\n",
            "order_total                      0\n",
            "season                           0\n",
            "is_expedited_delivery            0\n",
            "distance_to_nearest_warehouse    0\n",
            "latest_customer_review           0\n",
            "is_happy_customer                4\n",
            "dtype: int64\n"
          ]
        }
      ]
    },
    {
      "cell_type": "markdown",
      "source": [
        "**Box Plot for Checking Ouliers with missing values**"
      ],
      "metadata": {
        "id": "CrBapZOfV-2w"
      }
    },
    {
      "cell_type": "code",
      "source": [
        "plt.figure(figsize=(8,8))\n",
        "dirty_data.boxplot(column=['delivery_charges', 'order_price'])\n",
        "plt.title('Box plot on Columns with Null values')\n",
        "plt.xlabel('Columns')\n",
        "plt.ylabel('Values')\n",
        "plt.show()"
      ],
      "metadata": {
        "id": "dZxfzC2nY58w",
        "colab": {
          "base_uri": "https://localhost:8080/",
          "height": 718
        },
        "outputId": "ff5af2b1-549f-4d76-94c3-84daf006fe12"
      },
      "execution_count": 37,
      "outputs": [
        {
          "output_type": "display_data",
          "data": {
            "text/plain": [
              "<Figure size 800x800 with 1 Axes>"
            ],
            "image/png": "[encoded data removed]"
          },
          "metadata": {}
        }
      ]
    },
    {
      "cell_type": "markdown",
      "source": [
        "**Replacing of Null Values with Mean, Median and Mode**"
      ],
      "metadata": {
        "id": "yKv-bI2gYkXa"
      }
    },
    {
      "cell_type": "code",
      "source": [
        "# replacing null values of Delivery Charges with mean\n",
        "\n",
        "dirty_data['delivery_charges'].fillna(dirty_data['delivery_charges'].mean(), inplace= True)"
      ],
      "metadata": {
        "id": "HQa4K3iOY5_L"
      },
      "execution_count": 38,
      "outputs": []
    },
    {
      "cell_type": "code",
      "source": [
        "# replacing null values of Order Price with Median because it has multiple outliers\n",
        "\n",
        "dirty_data['order_price'].fillna(dirty_data['order_price'].median(), inplace= True)"
      ],
      "metadata": {
        "id": "gpdtnryTY6Cg"
      },
      "execution_count": 39,
      "outputs": []
    },
    {
      "cell_type": "code",
      "source": [
        "# replacing null values of Is Happy Customer column with Mode because binary balue columns are replaced with mode\n",
        "\n",
        "dirty_data['is_happy_customer'].fillna(dirty_data['is_happy_customer'].mode()[0], inplace= True)"
      ],
      "metadata": {
        "id": "NcvkZCReY6Fh"
      },
      "execution_count": 40,
      "outputs": []
    },
    {
      "cell_type": "code",
      "source": [
        "dirty_data['is_happy_customer'].mode()"
      ],
      "metadata": {
        "colab": {
          "base_uri": "https://localhost:8080/"
        },
        "id": "NTuq_aK8dmhY",
        "outputId": "baf91690-cf8d-4f8e-b0fd-353df6be19e2"
      },
      "execution_count": 41,
      "outputs": [
        {
          "output_type": "execute_result",
          "data": {
            "text/plain": [
              "0    True\n",
              "Name: is_happy_customer, dtype: bool"
            ]
          },
          "metadata": {},
          "execution_count": 41
        }
      ]
    },
    {
      "cell_type": "code",
      "source": [
        "# again checking for null values\n",
        "\n",
        "print(dirty_data.isnull().sum())"
      ],
      "metadata": {
        "id": "kKsvpLX0Y6H3",
        "colab": {
          "base_uri": "https://localhost:8080/"
        },
        "outputId": "9d2ec5d4-fc9d-4c34-fdd0-ddc9c266f924"
      },
      "execution_count": 42,
      "outputs": [
        {
          "output_type": "stream",
          "name": "stdout",
          "text": [
            "order_id                         0\n",
            "customer_id                      0\n",
            "date                             0\n",
            "nearest_warehouse                0\n",
            "shopping_cart                    0\n",
            "order_price                      0\n",
            "delivery_charges                 0\n",
            "customer_lat                     0\n",
            "customer_long                    0\n",
            "coupon_discount                  0\n",
            "order_total                      0\n",
            "season                           0\n",
            "is_expedited_delivery            0\n",
            "distance_to_nearest_warehouse    0\n",
            "latest_customer_review           0\n",
            "is_happy_customer                0\n",
            "dtype: int64\n"
          ]
        }
      ]
    },
    {
      "cell_type": "code",
      "source": [
        "# checking the data type\n",
        "\n",
        "print(dirty_data.dtypes)\n",
        "\n"
      ],
      "metadata": {
        "id": "s06C_JjEY6Kw",
        "colab": {
          "base_uri": "https://localhost:8080/"
        },
        "outputId": "f9c8e421-1649-4992-bda5-5443cc7862cf"
      },
      "execution_count": 43,
      "outputs": [
        {
          "output_type": "stream",
          "name": "stdout",
          "text": [
            "order_id                          object\n",
            "customer_id                       object\n",
            "date                              object\n",
            "nearest_warehouse                 object\n",
            "shopping_cart                     object\n",
            "order_price                      float64\n",
            "delivery_charges                 float64\n",
            "customer_lat                     float64\n",
            "customer_long                    float64\n",
            "coupon_discount                    int64\n",
            "order_total                       object\n",
            "season                            object\n",
            "is_expedited_delivery               bool\n",
            "distance_to_nearest_warehouse    float64\n",
            "latest_customer_review            object\n",
            "is_happy_customer                   bool\n",
            "dtype: object\n"
          ]
        }
      ]
    },
    {
      "cell_type": "markdown",
      "source": [
        "Conversion of Datatype"
      ],
      "metadata": {
        "id": "3GZ9Tko4e6Jj"
      }
    },
    {
      "cell_type": "code",
      "source": [
        "\n",
        "# Converting Date column into Date time format\n",
        "\n",
        "dirty_data.date= pd.to_datetime(dirty_data['date'])"
      ],
      "metadata": {
        "id": "TKRV7ZZ-esms",
        "colab": {
          "base_uri": "https://localhost:8080/"
        },
        "outputId": "4231e13e-fd5c-4814-d0cc-5d0a064946ba"
      },
      "execution_count": 44,
      "outputs": [
        {
          "output_type": "stream",
          "name": "stderr",
          "text": [
            "<ipython-input-44-ced641ea8b38>:3: UserWarning: Parsing dates in DD/MM/YYYY format when dayfirst=False (the default) was specified. This may lead to inconsistently parsed dates! Specify a format to ensure consistent parsing.\n",
            "  dirty_data.date= pd.to_datetime(dirty_data['date'])\n"
          ]
        }
      ]
    },
    {
      "cell_type": "code",
      "source": [
        "print(dirty_data['date'].dtypes)"
      ],
      "metadata": {
        "colab": {
          "base_uri": "https://localhost:8080/"
        },
        "id": "U4Gc1z1Aes3W",
        "outputId": "dc3e0da8-a7d3-4462-86af-1847f8fe95de"
      },
      "execution_count": 45,
      "outputs": [
        {
          "output_type": "stream",
          "name": "stdout",
          "text": [
            "datetime64[ns]\n"
          ]
        }
      ]
    },
    {
      "cell_type": "markdown",
      "source": [
        "**Sanity Check Of Data**"
      ],
      "metadata": {
        "id": "NPDC5fQ9f9Yn"
      }
    },
    {
      "cell_type": "code",
      "source": [
        "# Cheking for Unique Data in Order ID column\n",
        "\n",
        "if dirty_data.order_id.is_unique:\n",
        "  print('Data in Order Id is Unique.')\n",
        "else:\n",
        "  print('Data in Order Id in not Unique.')"
      ],
      "metadata": {
        "colab": {
          "base_uri": "https://localhost:8080/"
        },
        "id": "d28NpbB6es59",
        "outputId": "2ec68610-30bc-4c79-fa62-c4d74f3be0c8"
      },
      "execution_count": 46,
      "outputs": [
        {
          "output_type": "stream",
          "name": "stdout",
          "text": [
            "Data in Order Id is Unique.\n"
          ]
        }
      ]
    },
    {
      "cell_type": "code",
      "source": [
        "# checking for unique values in Column\n",
        "\n",
        "dirty_data['nearest_warehouse'].unique()"
      ],
      "metadata": {
        "id": "Yja6QdOOes8x",
        "colab": {
          "base_uri": "https://localhost:8080/"
        },
        "outputId": "e1fd3be9-3d97-41ae-fef4-01fbbc1e4ca6"
      },
      "execution_count": 47,
      "outputs": [
        {
          "output_type": "execute_result",
          "data": {
            "text/plain": [
              "array(['Thompson', 'Nickolson', 'Bakers', 'nickolson', 'thompson',\n",
              "       'Thompson911', '1211Bakers', 'Nick123olson'], dtype=object)"
            ]
          },
          "metadata": {},
          "execution_count": 47
        }
      ]
    },
    {
      "cell_type": "code",
      "source": [
        "# using Regular Expression for cleaning the data\n",
        "\n",
        "pattern= '\\d+' #matches one or more digits\n",
        "masked = dirty_data['nearest_warehouse'].str.contains(pattern, regex= True)\n",
        "result = dirty_data[masked]\n",
        "result"
      ],
      "metadata": {
        "id": "lNuhqc2vetBo",
        "colab": {
          "base_uri": "https://localhost:8080/",
          "height": 329
        },
        "outputId": "42dcc7f1-2c20-41d4-e4e3-cdd0204b8582"
      },
      "execution_count": 48,
      "outputs": [
        {
          "output_type": "execute_result",
          "data": {
            "text/plain": [
              "      order_id   customer_id       date nearest_warehouse  \\\n",
              "426  ORD057375  ID0710001161 2019-03-02       Thompson911   \n",
              "467  ORD144784  ID0333901582 2019-09-11        1211Bakers   \n",
              "494  ORD379700  ID2190564628 2019-05-08      Nick123olson   \n",
              "\n",
              "                                         shopping_cart  order_price  \\\n",
              "426  [('Thunder line', 1), ('Alcon 10', 1), ('Candl...      18460.0   \n",
              "467           [('Olivia x460', 2), ('Lucent 330S', 2)]       4910.0   \n",
              "494  [('Candle Inferno', 1), ('Alcon 10', 1), ('Luc...      17510.0   \n",
              "\n",
              "     delivery_charges  customer_lat  customer_long  coupon_discount  \\\n",
              "426             93.52    -37.813736     144.936811               25   \n",
              "467            108.87    -37.801844     144.981358               25   \n",
              "494             75.37    -37.816209     144.964057                5   \n",
              "\n",
              "    order_total  season  is_expedited_delivery  distance_to_nearest_warehouse  \\\n",
              "426   665085.66  Summer                   True                         0.9098   \n",
              "467     3791.37  Autumn                   True                         1.5207   \n",
              "494    16709.87  Winter                   True                         0.5513   \n",
              "\n",
              "                                latest_customer_review  is_happy_customer  \n",
              "426  best buy i've made on digico functions properl...               True  \n",
              "467  turned our old tv into a smart tv. really easy...               True  \n",
              "494  good quality price ratio bought it for my mom,...               True  "
            ],
            "text/html": [
              "\n",
              "  <div id=\"df-e27bfb02-9a9c-49e6-939c-e7828f769499\">\n",
              "    <div class=\"colab-df-container\">\n",
              "      <div>\n",
              "<style scoped>\n",
              "    .dataframe tbody tr th:only-of-type {\n",
              "        vertical-align: middle;\n",
              "    }\n",
              "\n",
              "    .dataframe tbody tr th {\n",
              "        vertical-align: top;\n",
              "    }\n",
              "\n",
              "    .dataframe thead th {\n",
              "        text-align: right;\n",
              "    }\n",
              "</style>\n",
              "<table border=\"1\" class=\"dataframe\">\n",
              "  <thead>\n",
              "    <tr style=\"text-align: right;\">\n",
              "      <th></th>\n",
              "      <th>order_id</th>\n",
              "      <th>customer_id</th>\n",
              "      <th>date</th>\n",
              "      <th>nearest_warehouse</th>\n",
              "      <th>shopping_cart</th>\n",
              "      <th>order_price</th>\n",
              "      <th>delivery_charges</th>\n",
              "      <th>customer_lat</th>\n",
              "      <th>customer_long</th>\n",
              "      <th>coupon_discount</th>\n",
              "      <th>order_total</th>\n",
              "      <th>season</th>\n",
              "      <th>is_expedited_delivery</th>\n",
              "      <th>distance_to_nearest_warehouse</th>\n",
              "      <th>latest_customer_review</th>\n",
              "      <th>is_happy_customer</th>\n",
              "    </tr>\n",
              "  </thead>\n",
              "  <tbody>\n",
              "    <tr>\n",
              "      <th>426</th>\n",
              "      <td>ORD057375</td>\n",
              "      <td>ID0710001161</td>\n",
              "      <td>2019-03-02</td>\n",
              "      <td>Thompson911</td>\n",
              "      <td>[('Thunder line', 1), ('Alcon 10', 1), ('Candl...</td>\n",
              "      <td>18460.0</td>\n",
              "      <td>93.52</td>\n",
              "      <td>-37.813736</td>\n",
              "      <td>144.936811</td>\n",
              "      <td>25</td>\n",
              "      <td>665085.66</td>\n",
              "      <td>Summer</td>\n",
              "      <td>True</td>\n",
              "      <td>0.9098</td>\n",
              "      <td>best buy i've made on digico functions properl...</td>\n",
              "      <td>True</td>\n",
              "    </tr>\n",
              "    <tr>\n",
              "      <th>467</th>\n",
              "      <td>ORD144784</td>\n",
              "      <td>ID0333901582</td>\n",
              "      <td>2019-09-11</td>\n",
              "      <td>1211Bakers</td>\n",
              "      <td>[('Olivia x460', 2), ('Lucent 330S', 2)]</td>\n",
              "      <td>4910.0</td>\n",
              "      <td>108.87</td>\n",
              "      <td>-37.801844</td>\n",
              "      <td>144.981358</td>\n",
              "      <td>25</td>\n",
              "      <td>3791.37</td>\n",
              "      <td>Autumn</td>\n",
              "      <td>True</td>\n",
              "      <td>1.5207</td>\n",
              "      <td>turned our old tv into a smart tv. really easy...</td>\n",
              "      <td>True</td>\n",
              "    </tr>\n",
              "    <tr>\n",
              "      <th>494</th>\n",
              "      <td>ORD379700</td>\n",
              "      <td>ID2190564628</td>\n",
              "      <td>2019-05-08</td>\n",
              "      <td>Nick123olson</td>\n",
              "      <td>[('Candle Inferno', 1), ('Alcon 10', 1), ('Luc...</td>\n",
              "      <td>17510.0</td>\n",
              "      <td>75.37</td>\n",
              "      <td>-37.816209</td>\n",
              "      <td>144.964057</td>\n",
              "      <td>5</td>\n",
              "      <td>16709.87</td>\n",
              "      <td>Winter</td>\n",
              "      <td>True</td>\n",
              "      <td>0.5513</td>\n",
              "      <td>good quality price ratio bought it for my mom,...</td>\n",
              "      <td>True</td>\n",
              "    </tr>\n",
              "  </tbody>\n",
              "</table>\n",
              "</div>\n",
              "      <button class=\"colab-df-convert\" onclick=\"convertToInteractive('df-e27bfb02-9a9c-49e6-939c-e7828f769499')\"\n",
              "              title=\"Convert this dataframe to an interactive table.\"\n",
              "              style=\"display:none;\">\n",
              "        \n",
              "  <svg xmlns=\"http://www.w3.org/2000/svg\" height=\"24px\"viewBox=\"0 0 24 24\"\n",
              "       width=\"24px\">\n",
              "    <path d=\"M0 0h24v24H0V0z\" fill=\"none\"/>\n",
              "    <path d=\"M18.56 5.44l.94 2.06.94-2.06 2.06-.94-2.06-.94-.94-2.06-.94 2.06-2.06.94zm-11 1L8.5 8.5l.94-2.06 2.06-.94-2.06-.94L8.5 2.5l-.94 2.06-2.06.94zm10 10l.94 2.06.94-2.06 2.06-.94-2.06-.94-.94-2.06-.94 2.06-2.06.94z\"/><path d=\"M17.41 7.96l-1.37-1.37c-.4-.4-.92-.59-1.43-.59-.52 0-1.04.2-1.43.59L10.3 9.45l-7.72 7.72c-.78.78-.78 2.05 0 2.83L4 21.41c.39.39.9.59 1.41.59.51 0 1.02-.2 1.41-.59l7.78-7.78 2.81-2.81c.8-.78.8-2.07 0-2.86zM5.41 20L4 18.59l7.72-7.72 1.47 1.35L5.41 20z\"/>\n",
              "  </svg>\n",
              "      </button>\n",
              "      \n",
              "  <style>\n",
              "    .colab-df-container {\n",
              "      display:flex;\n",
              "      flex-wrap:wrap;\n",
              "      gap: 12px;\n",
              "    }\n",
              "\n",
              "    .colab-df-convert {\n",
              "      background-color: #E8F0FE;\n",
              "      border: none;\n",
              "      border-radius: 50%;\n",
              "      cursor: pointer;\n",
              "      display: none;\n",
              "      fill: #1967D2;\n",
              "      height: 32px;\n",
              "      padding: 0 0 0 0;\n",
              "      width: 32px;\n",
              "    }\n",
              "\n",
              "    .colab-df-convert:hover {\n",
              "      background-color: #E2EBFA;\n",
              "      box-shadow: 0px 1px 2px rgba(60, 64, 67, 0.3), 0px 1px 3px 1px rgba(60, 64, 67, 0.15);\n",
              "      fill: #174EA6;\n",
              "    }\n",
              "\n",
              "    [theme=dark] .colab-df-convert {\n",
              "      background-color: #3B4455;\n",
              "      fill: #D2E3FC;\n",
              "    }\n",
              "\n",
              "    [theme=dark] .colab-df-convert:hover {\n",
              "      background-color: #434B5C;\n",
              "      box-shadow: 0px 1px 3px 1px rgba(0, 0, 0, 0.15);\n",
              "      filter: drop-shadow(0px 1px 2px rgba(0, 0, 0, 0.3));\n",
              "      fill: #FFFFFF;\n",
              "    }\n",
              "  </style>\n",
              "\n",
              "      <script>\n",
              "        const buttonEl =\n",
              "          document.querySelector('#df-e27bfb02-9a9c-49e6-939c-e7828f769499 button.colab-df-convert');\n",
              "        buttonEl.style.display =\n",
              "          google.colab.kernel.accessAllowed ? 'block' : 'none';\n",
              "\n",
              "        async function convertToInteractive(key) {\n",
              "          const element = document.querySelector('#df-e27bfb02-9a9c-49e6-939c-e7828f769499');\n",
              "          const dataTable =\n",
              "            await google.colab.kernel.invokeFunction('convertToInteractive',\n",
              "                                                     [key], {});\n",
              "          if (!dataTable) return;\n",
              "\n",
              "          const docLinkHtml = 'Like what you see? Visit the ' +\n",
              "            '<a target=\"_blank\" href=https://colab.research.google.com/notebooks/data_table.ipynb>data table notebook</a>'\n",
              "            + ' to learn more about interactive tables.';\n",
              "          element.innerHTML = '';\n",
              "          dataTable['output_type'] = 'display_data';\n",
              "          await google.colab.output.renderOutput(dataTable, element);\n",
              "          const docLink = document.createElement('div');\n",
              "          docLink.innerHTML = docLinkHtml;\n",
              "          element.appendChild(docLink);\n",
              "        }\n",
              "      </script>\n",
              "    </div>\n",
              "  </div>\n",
              "  "
            ]
          },
          "metadata": {},
          "execution_count": 48
        }
      ]
    },
    {
      "cell_type": "code",
      "source": [
        "# replacing data\n",
        "dirty_data['nearest_warehouse']= dirty_data['nearest_warehouse'].str.replace('\\d+', '')\n",
        "dirty_data.head()"
      ],
      "metadata": {
        "id": "I-k13NByetE4",
        "colab": {
          "base_uri": "https://localhost:8080/",
          "height": 513
        },
        "outputId": "5481d34d-9862-4f04-d696-b4460b0cb6e9"
      },
      "execution_count": 49,
      "outputs": [
        {
          "output_type": "stream",
          "name": "stderr",
          "text": [
            "<ipython-input-49-a282e3ddcfda>:2: FutureWarning: The default value of regex will change from True to False in a future version.\n",
            "  dirty_data['nearest_warehouse']= dirty_data['nearest_warehouse'].str.replace('\\d+', '')\n"
          ]
        },
        {
          "output_type": "execute_result",
          "data": {
            "text/plain": [
              "    order_id   customer_id       date nearest_warehouse  \\\n",
              "0  ORD182494  ID6197211592 2019-06-22          Thompson   \n",
              "1  ORD395518  ID0282825849 2019-12-29          Thompson   \n",
              "2  ORD494479  ID0579391891 2019-02-03         Nickolson   \n",
              "3  ORD019224  ID4544561904 2019-12-01         Nickolson   \n",
              "4  ORD104032  ID6231506320 2019-11-28         Nickolson   \n",
              "\n",
              "                                       shopping_cart  order_price  \\\n",
              "0  [('Lucent 330S', 1), ('Thunder line', 2), ('iS...      12200.0   \n",
              "1        [('Thunder line', 1), ('Universe Note', 2)]       9080.0   \n",
              "2               [('Thunder line', 1), ('pearTV', 2)]      10670.0   \n",
              "3  [('Universe Note', 1), ('Alcon 10', 2), ('Oliv...      24800.0   \n",
              "4  [('Universe Note', 1), ('Olivia x460', 1), ('i...       9145.0   \n",
              "\n",
              "   delivery_charges  customer_lat  customer_long  coupon_discount order_total  \\\n",
              "0             79.89    -37.815105     144.932843               10    11059.89   \n",
              "1             62.71    -37.802736     144.951118                0     9142.71   \n",
              "2             65.87    -37.821302     144.957581               10     9668.87   \n",
              "3             57.61    -37.811416     144.973073               15    21137.61   \n",
              "4             75.54     37.823859     144.969892               25     6934.29   \n",
              "\n",
              "   season  is_expedited_delivery  distance_to_nearest_warehouse  \\\n",
              "0  Winter                   True                         1.2800   \n",
              "1  Summer                  False                         1.1621   \n",
              "2  Autumn                  False                         1.0949   \n",
              "3  Summer                  False                         0.8571   \n",
              "4  Spring                  False                         0.5867   \n",
              "\n",
              "                              latest_customer_review  is_happy_customer  \n",
              "0  perfect phone and trusted seller. phone itself...               True  \n",
              "1  it keeps dropping calls the wifi don't work th...              False  \n",
              "2            five stars this is a great cheap phone.               True  \n",
              "3        charger did not fit the charger didn't fit.              False  \n",
              "4                                    four stars good               True  "
            ],
            "text/html": [
              "\n",
              "  <div id=\"df-63756154-a48e-4029-90a8-ded41078e7ef\">\n",
              "    <div class=\"colab-df-container\">\n",
              "      <div>\n",
              "<style scoped>\n",
              "    .dataframe tbody tr th:only-of-type {\n",
              "        vertical-align: middle;\n",
              "    }\n",
              "\n",
              "    .dataframe tbody tr th {\n",
              "        vertical-align: top;\n",
              "    }\n",
              "\n",
              "    .dataframe thead th {\n",
              "        text-align: right;\n",
              "    }\n",
              "</style>\n",
              "<table border=\"1\" class=\"dataframe\">\n",
              "  <thead>\n",
              "    <tr style=\"text-align: right;\">\n",
              "      <th></th>\n",
              "      <th>order_id</th>\n",
              "      <th>customer_id</th>\n",
              "      <th>date</th>\n",
              "      <th>nearest_warehouse</th>\n",
              "      <th>shopping_cart</th>\n",
              "      <th>order_price</th>\n",
              "      <th>delivery_charges</th>\n",
              "      <th>customer_lat</th>\n",
              "      <th>customer_long</th>\n",
              "      <th>coupon_discount</th>\n",
              "      <th>order_total</th>\n",
              "      <th>season</th>\n",
              "      <th>is_expedited_delivery</th>\n",
              "      <th>distance_to_nearest_warehouse</th>\n",
              "      <th>latest_customer_review</th>\n",
              "      <th>is_happy_customer</th>\n",
              "    </tr>\n",
              "  </thead>\n",
              "  <tbody>\n",
              "    <tr>\n",
              "      <th>0</th>\n",
              "      <td>ORD182494</td>\n",
              "      <td>ID6197211592</td>\n",
              "      <td>2019-06-22</td>\n",
              "      <td>Thompson</td>\n",
              "      <td>[('Lucent 330S', 1), ('Thunder line', 2), ('iS...</td>\n",
              "      <td>12200.0</td>\n",
              "      <td>79.89</td>\n",
              "      <td>-37.815105</td>\n",
              "      <td>144.932843</td>\n",
              "      <td>10</td>\n",
              "      <td>11059.89</td>\n",
              "      <td>Winter</td>\n",
              "      <td>True</td>\n",
              "      <td>1.2800</td>\n",
              "      <td>perfect phone and trusted seller. phone itself...</td>\n",
              "      <td>True</td>\n",
              "    </tr>\n",
              "    <tr>\n",
              "      <th>1</th>\n",
              "      <td>ORD395518</td>\n",
              "      <td>ID0282825849</td>\n",
              "      <td>2019-12-29</td>\n",
              "      <td>Thompson</td>\n",
              "      <td>[('Thunder line', 1), ('Universe Note', 2)]</td>\n",
              "      <td>9080.0</td>\n",
              "      <td>62.71</td>\n",
              "      <td>-37.802736</td>\n",
              "      <td>144.951118</td>\n",
              "      <td>0</td>\n",
              "      <td>9142.71</td>\n",
              "      <td>Summer</td>\n",
              "      <td>False</td>\n",
              "      <td>1.1621</td>\n",
              "      <td>it keeps dropping calls the wifi don't work th...</td>\n",
              "      <td>False</td>\n",
              "    </tr>\n",
              "    <tr>\n",
              "      <th>2</th>\n",
              "      <td>ORD494479</td>\n",
              "      <td>ID0579391891</td>\n",
              "      <td>2019-02-03</td>\n",
              "      <td>Nickolson</td>\n",
              "      <td>[('Thunder line', 1), ('pearTV', 2)]</td>\n",
              "      <td>10670.0</td>\n",
              "      <td>65.87</td>\n",
              "      <td>-37.821302</td>\n",
              "      <td>144.957581</td>\n",
              "      <td>10</td>\n",
              "      <td>9668.87</td>\n",
              "      <td>Autumn</td>\n",
              "      <td>False</td>\n",
              "      <td>1.0949</td>\n",
              "      <td>five stars this is a great cheap phone.</td>\n",
              "      <td>True</td>\n",
              "    </tr>\n",
              "    <tr>\n",
              "      <th>3</th>\n",
              "      <td>ORD019224</td>\n",
              "      <td>ID4544561904</td>\n",
              "      <td>2019-12-01</td>\n",
              "      <td>Nickolson</td>\n",
              "      <td>[('Universe Note', 1), ('Alcon 10', 2), ('Oliv...</td>\n",
              "      <td>24800.0</td>\n",
              "      <td>57.61</td>\n",
              "      <td>-37.811416</td>\n",
              "      <td>144.973073</td>\n",
              "      <td>15</td>\n",
              "      <td>21137.61</td>\n",
              "      <td>Summer</td>\n",
              "      <td>False</td>\n",
              "      <td>0.8571</td>\n",
              "      <td>charger did not fit the charger didn't fit.</td>\n",
              "      <td>False</td>\n",
              "    </tr>\n",
              "    <tr>\n",
              "      <th>4</th>\n",
              "      <td>ORD104032</td>\n",
              "      <td>ID6231506320</td>\n",
              "      <td>2019-11-28</td>\n",
              "      <td>Nickolson</td>\n",
              "      <td>[('Universe Note', 1), ('Olivia x460', 1), ('i...</td>\n",
              "      <td>9145.0</td>\n",
              "      <td>75.54</td>\n",
              "      <td>37.823859</td>\n",
              "      <td>144.969892</td>\n",
              "      <td>25</td>\n",
              "      <td>6934.29</td>\n",
              "      <td>Spring</td>\n",
              "      <td>False</td>\n",
              "      <td>0.5867</td>\n",
              "      <td>four stars good</td>\n",
              "      <td>True</td>\n",
              "    </tr>\n",
              "  </tbody>\n",
              "</table>\n",
              "</div>\n",
              "      <button class=\"colab-df-convert\" onclick=\"convertToInteractive('df-63756154-a48e-4029-90a8-ded41078e7ef')\"\n",
              "              title=\"Convert this dataframe to an interactive table.\"\n",
              "              style=\"display:none;\">\n",
              "        \n",
              "  <svg xmlns=\"http://www.w3.org/2000/svg\" height=\"24px\"viewBox=\"0 0 24 24\"\n",
              "       width=\"24px\">\n",
              "    <path d=\"M0 0h24v24H0V0z\" fill=\"none\"/>\n",
              "    <path d=\"M18.56 5.44l.94 2.06.94-2.06 2.06-.94-2.06-.94-.94-2.06-.94 2.06-2.06.94zm-11 1L8.5 8.5l.94-2.06 2.06-.94-2.06-.94L8.5 2.5l-.94 2.06-2.06.94zm10 10l.94 2.06.94-2.06 2.06-.94-2.06-.94-.94-2.06-.94 2.06-2.06.94z\"/><path d=\"M17.41 7.96l-1.37-1.37c-.4-.4-.92-.59-1.43-.59-.52 0-1.04.2-1.43.59L10.3 9.45l-7.72 7.72c-.78.78-.78 2.05 0 2.83L4 21.41c.39.39.9.59 1.41.59.51 0 1.02-.2 1.41-.59l7.78-7.78 2.81-2.81c.8-.78.8-2.07 0-2.86zM5.41 20L4 18.59l7.72-7.72 1.47 1.35L5.41 20z\"/>\n",
              "  </svg>\n",
              "      </button>\n",
              "      \n",
              "  <style>\n",
              "    .colab-df-container {\n",
              "      display:flex;\n",
              "      flex-wrap:wrap;\n",
              "      gap: 12px;\n",
              "    }\n",
              "\n",
              "    .colab-df-convert {\n",
              "      background-color: #E8F0FE;\n",
              "      border: none;\n",
              "      border-radius: 50%;\n",
              "      cursor: pointer;\n",
              "      display: none;\n",
              "      fill: #1967D2;\n",
              "      height: 32px;\n",
              "      padding: 0 0 0 0;\n",
              "      width: 32px;\n",
              "    }\n",
              "\n",
              "    .colab-df-convert:hover {\n",
              "      background-color: #E2EBFA;\n",
              "      box-shadow: 0px 1px 2px rgba(60, 64, 67, 0.3), 0px 1px 3px 1px rgba(60, 64, 67, 0.15);\n",
              "      fill: #174EA6;\n",
              "    }\n",
              "\n",
              "    [theme=dark] .colab-df-convert {\n",
              "      background-color: #3B4455;\n",
              "      fill: #D2E3FC;\n",
              "    }\n",
              "\n",
              "    [theme=dark] .colab-df-convert:hover {\n",
              "      background-color: #434B5C;\n",
              "      box-shadow: 0px 1px 3px 1px rgba(0, 0, 0, 0.15);\n",
              "      filter: drop-shadow(0px 1px 2px rgba(0, 0, 0, 0.3));\n",
              "      fill: #FFFFFF;\n",
              "    }\n",
              "  </style>\n",
              "\n",
              "      <script>\n",
              "        const buttonEl =\n",
              "          document.querySelector('#df-63756154-a48e-4029-90a8-ded41078e7ef button.colab-df-convert');\n",
              "        buttonEl.style.display =\n",
              "          google.colab.kernel.accessAllowed ? 'block' : 'none';\n",
              "\n",
              "        async function convertToInteractive(key) {\n",
              "          const element = document.querySelector('#df-63756154-a48e-4029-90a8-ded41078e7ef');\n",
              "          const dataTable =\n",
              "            await google.colab.kernel.invokeFunction('convertToInteractive',\n",
              "                                                     [key], {});\n",
              "          if (!dataTable) return;\n",
              "\n",
              "          const docLinkHtml = 'Like what you see? Visit the ' +\n",
              "            '<a target=\"_blank\" href=https://colab.research.google.com/notebooks/data_table.ipynb>data table notebook</a>'\n",
              "            + ' to learn more about interactive tables.';\n",
              "          element.innerHTML = '';\n",
              "          dataTable['output_type'] = 'display_data';\n",
              "          await google.colab.output.renderOutput(dataTable, element);\n",
              "          const docLink = document.createElement('div');\n",
              "          docLink.innerHTML = docLinkHtml;\n",
              "          element.appendChild(docLink);\n",
              "        }\n",
              "      </script>\n",
              "    </div>\n",
              "  </div>\n",
              "  "
            ]
          },
          "metadata": {},
          "execution_count": 49
        }
      ]
    },
    {
      "cell_type": "code",
      "source": [
        "# corrected Data\n",
        "dirty_data['nearest_warehouse'].unique()"
      ],
      "metadata": {
        "id": "PZ4XoxEHetHl",
        "colab": {
          "base_uri": "https://localhost:8080/"
        },
        "outputId": "533f4c76-7f2a-41e9-e77c-559a50fb5b64"
      },
      "execution_count": 50,
      "outputs": [
        {
          "output_type": "execute_result",
          "data": {
            "text/plain": [
              "array(['Thompson', 'Nickolson', 'Bakers', 'nickolson', 'thompson'],\n",
              "      dtype=object)"
            ]
          },
          "metadata": {},
          "execution_count": 50
        }
      ]
    },
    {
      "cell_type": "code",
      "source": [
        "# Checking unique values in Order Total column\n",
        "\n",
        "dirty_data['order_total'].unique()"
      ],
      "metadata": {
        "id": "FaHSYfhTetKb",
        "colab": {
          "base_uri": "https://localhost:8080/"
        },
        "outputId": "ad0288a5-04e6-45c2-c8bc-ff1dc4ce18e8"
      },
      "execution_count": 51,
      "outputs": [
        {
          "output_type": "execute_result",
          "data": {
            "text/plain": [
              "array(['11059.89', '9142.71', '9668.87', '21137.61', '6934.29', '7100.22',\n",
              "       '13089.84', '10789.79', '229sav58.58', '11384.26', '31973.25',\n",
              "       '10464.79', '926057.25', '19785.64', '31979.78', '15196.35',\n",
              "       '11188.19', '1304.52', '6268.89', '6294.86', '13787.61', '4823.05',\n",
              "       '17111.01', '5464.28', '17539.19', '2273.98', '20346.04',\n",
              "       '5663.28', '17141.8', '19626.68', '12287.24', '402307.25',\n",
              "       '7900.74', '16989.54', '19161.09', '3280.44', '10186.45',\n",
              "       '12822.12', '116r@RR20.28', '13075.21', '5717.79', '620502.3',\n",
              "       '8437.45', '8131.57', '13822.01', '7446.01', '10598.3', '8836.33',\n",
              "       '28195.73', '19420.81', '7977.82', '9999.06', '2346.86',\n",
              "       '15421.05', '2302.95', '41406.93', '4470.72', '22306.28',\n",
              "       '3579.02', '15168.21', '7036.6', '37215.32', '17973.2', '14845.8',\n",
              "       '5379.13', '16562.47', '5114.47', '18316.14', '9619.79',\n",
              "       '18367.62', '16803.7', '26616.53', '8802.6', '24293.23', '3913.42',\n",
              "       '12210.93', '2690.06', '28GG^&056.18', '31758.08', '9134.23',\n",
              "       '3416.42', '393761.23', '14646.58', '7833.23', '4490.22',\n",
              "       '24597.54', '12808.11', '15448.61', '12835.27', '9143.57',\n",
              "       '13390.16', '5619.21', '23495.54', '25571.24', '27901.05',\n",
              "       '10946.54', '5354.29', '15747.96', '2794.47', '12808.56',\n",
              "       '20812.67', '25859.42', '16545', '10626.39', '7236.4', '4706.93',\n",
              "       '17794.88', '20716.19', '4980.34', '6642.96', '15182.58',\n",
              "       '13593.65', '13379.27', '14288.68', '3965.53', '2214.76',\n",
              "       '19223.36', '2069.47', '17373.55', '8292.91', '2421.82',\n",
              "       '19144.19', '9183.73', '8362.37', '14735.3', '25499.39',\n",
              "       '10685.89', '13757.19', '11329.02', '8162.8', '24880.23',\n",
              "       '3970.08', '25142.73', '11298.33', '21270.61', '1726.4',\n",
              "       '17449.98', '12256.19', '8859.03', '10112.76', '8949.93',\n",
              "       '20388.62', '6263.26', '6924.65', '3455.04', '18896.47',\n",
              "       '21132.38', '9566.96', '6541.61', '15585.36', '19761.84',\n",
              "       '9945.92', '4270', '7543.51', '25719.55', '13208.37', '31212.7',\n",
              "       '11661.79', '13515.63', '4451.08', '25062.35', '15107.09',\n",
              "       '7393.24', '9145.96', '23461.82', '14172.02', '7519.56', '7038.89',\n",
              "       '10070.48', '11621.84', '17950.79', '961.91', '4276.19', '8752.93',\n",
              "       '5640.77', '3008.35', '3293.95', '11975.07', '2160.12', '6482.94',\n",
              "       '8143.19', '5039.5', '6508.63', '12140.7', '8956.45', '4239.24',\n",
              "       '16234.77', '15860.18', '13700.38', '9232.56', '23683.68',\n",
              "       '7504.21', '1072.3', '8745.78', '4263.11', '7704.07', '21847.59',\n",
              "       '24307.39', '16458.24', '5123.08', '10153.89', '5149.11',\n",
              "       '22206.48', '3564.79', '967408.88', '9582.29', '2921.76',\n",
              "       '21985.71', '4223.7', '13751.19', '14607.17', '6078.9', '11675.44',\n",
              "       '16390.48', '4555.29', '19332.24', '18920.34', '19622.32',\n",
              "       '12950.61', '5218.85', '11075.9', '5417.05', '14145.5', '18220.64',\n",
              "       '6466.48', '19473.84', '15545.35', '6545.82', '21008.16',\n",
              "       '18559.72', '15154.79', '21271.97', '6638.23', '18815.56',\n",
              "       '17260.9', '17831.08', '5038.92', '19468.65', '648477.6',\n",
              "       '16474.13', '5291.16', '23790.84', '18374.75', '2888.09',\n",
              "       '7839.46', '17538.74', '5270.95', '8164.33', '3585.34', '4483.04',\n",
              "       '20758.48', '6207.96', '5870.48', '7017.78', '4355.75', '10370.2',\n",
              "       '2291.84', '16493.7', '3785.32', '17046.75', '16013.45',\n",
              "       '649193.76', '23710.16', '17811.93', '4058.02', '1932.41',\n",
              "       '16280.95', '969651.79', '10002.47', '18940.8', '17686.44',\n",
              "       '14744.86', '5098', '18567.31', '8058.64', '6218.31', '33706.75',\n",
              "       '507327.39', '20265.84', '8691.02', '9917.95', '30226.25',\n",
              "       '3056.12', '18391.54', '8413.78', '8134.87', '14395.63', '3195.05',\n",
              "       '1628.82', '18338.91', '4261.97', '10328.54', '11203.14',\n",
              "       '12901.03', '8161.65', '12247.47', '3138.47', '765.58', '14827.6',\n",
              "       '8458.76', '23887.8', '13925.47', '11289.59', '2226.86', '2714.71',\n",
              "       '5688269.6', '13166.08', '4622.18', '639.29', '18417.21',\n",
              "       '88124.81', '11551.05', '7483.11', '9709.81', '3912.99',\n",
              "       '16853.77', '6419.5', '8018.73', '7858.54', '14251.49', '6242.1',\n",
              "       '14281.64', '4770.31', '21969.68', '14230.71', '3813.87',\n",
              "       '10789.56', '6180.64', '14602.8', '6855.54', '20566.24',\n",
              "       '11999.17', '7026.61', '15537.01', '8115.26', '9266.32',\n",
              "       '15015.72', '15082.98', '5723.04', '5627.35', '27868.95',\n",
              "       '6655.24', '18586.85', '7738.9', '5353.71', '3765.31', '17918.91',\n",
              "       '21408.58', '18000.41', '19231.88', '26795.9', '87224.69',\n",
              "       '5983.15', '19687.21', '22354.67', '14615.5', '6633.83',\n",
              "       '23050.51', '13188.36', '17995.58', '20584.78', '10621.14',\n",
              "       '3434.7', '5449.23', '14369.42', '19303.14', '17862.01', '2547.11',\n",
              "       '9733.63', '10598.96', '10189.34', '12272.74', '20363.68',\n",
              "       '18274.06', '11716.9', '8584.11', '10040.73', '11374.78',\n",
              "       '82214.42', '22580.87', '31053.7', '13515.7', '6018.2', '5713.99',\n",
              "       '6950.05', '909463.94', '5861.86', '1601.29', '8851.73',\n",
              "       '19029.61', '37649.94', '6842.29', '17398.87', '17638.33',\n",
              "       '20963.58', '2454.28', '7067.28', '21441.18', '5851.89', '3905.06',\n",
              "       '7231.45', '6060.9', '16690.36', '21047.84', '10808.97', '5197.21',\n",
              "       '2640.78', '8568.91', '16680.17', '12224.61', '3241.11',\n",
              "       '14863.26', '17806.7', '17372.89', '2397.82', '5887.94', '22566',\n",
              "       '8209.98', '9977.04', '915', '7193.94', '13683.9', '9682.93',\n",
              "       '13354.95', '25392.12', '7191.55', '665085.66', '25818.91',\n",
              "       '5091.55', '10018.24', '6510.61', '11176.33', '1102.79', '3387.07',\n",
              "       '18085.37', '16512.56', '10823.83', '5808.3', '29631.23',\n",
              "       '26133.11', '11613.86', '22899.64', '2620.32', '15467.42',\n",
              "       '13796.43', '13143.99', '24352.3', '6927.69', '6479.02',\n",
              "       '13428.25', '6662.04', '12660.46', '9355.59', '9101.79',\n",
              "       '29977.12', '13628.28', '25186.7', '11077.59', '5931.25',\n",
              "       '7174.81', '19315.87', '21350.5', '9408.67', '14327.27', '9756.96',\n",
              "       '8480.5', '26021.13', '3791.37', '23954.24', '2966.98', '16814.2',\n",
              "       '5947.65', '17972.82', '5133.7', '2443.76', '1961.42', '8211.86',\n",
              "       '11475', '4950.44', '2687.01', '8070.42', '22020.69', '8110',\n",
              "       '14460.75', '6994.75', '29493.37', '33947.06', '11188.73',\n",
              "       '2152.6', '2955.07', '5056.58', '5963.85', '22899.41', '16709.87',\n",
              "       '20174.7', '22182.29', '16596.98', '4606.89', '19079.12'],\n",
              "      dtype=object)"
            ]
          },
          "metadata": {},
          "execution_count": 51
        }
      ]
    },
    {
      "cell_type": "code",
      "source": [
        "pattern= '[a-zA-Z\\W]'\n",
        "masked= dirty_data['order_total'].str.contains(pattern, regex= True)\n",
        "result= dirty_data[masked]\n",
        "result"
      ],
      "metadata": {
        "id": "xjZTzblvetNO",
        "colab": {
          "base_uri": "https://localhost:8080/",
          "height": 904
        },
        "outputId": "d4d80397-ffbe-41c5-e295-d7e14d184497"
      },
      "execution_count": 52,
      "outputs": [
        {
          "output_type": "execute_result",
          "data": {
            "text/plain": [
              "      order_id   customer_id       date nearest_warehouse  \\\n",
              "0    ORD182494  ID6197211592 2019-06-22          Thompson   \n",
              "1    ORD395518  ID0282825849 2019-12-29          Thompson   \n",
              "2    ORD494479  ID0579391891 2019-02-03         Nickolson   \n",
              "3    ORD019224  ID4544561904 2019-12-01         Nickolson   \n",
              "4    ORD104032  ID6231506320 2019-11-28         Nickolson   \n",
              "..         ...           ...        ...               ...   \n",
              "495  ORD475510  ID0247417082 2019-07-08         Nickolson   \n",
              "496  ORD086060  ID0130015098 2019-03-28         Nickolson   \n",
              "497  ORD079320  ID2707985442 2019-10-16         Nickolson   \n",
              "498  ORD026546  ID0060088412 2019-05-19         Nickolson   \n",
              "499  ORD085447  ID5257193650 2019-05-25            Bakers   \n",
              "\n",
              "                                         shopping_cart  order_price  \\\n",
              "0    [('Lucent 330S', 1), ('Thunder line', 2), ('iS...      12200.0   \n",
              "1          [('Thunder line', 1), ('Universe Note', 2)]       9080.0   \n",
              "2                 [('Thunder line', 1), ('pearTV', 2)]      10670.0   \n",
              "3    [('Universe Note', 1), ('Alcon 10', 2), ('Oliv...      24800.0   \n",
              "4    [('Universe Note', 1), ('Olivia x460', 1), ('i...       9145.0   \n",
              "..                                                 ...          ...   \n",
              "495             [('Alcon 10', 2), ('iAssist Line', 2)]     386776.0   \n",
              "496  [('pearTV', 2), ('Candle Inferno', 2), ('Toshi...      22120.0   \n",
              "497  [('pearTV', 1), ('Alcon 10', 1), ('Lucent 330S...      16490.0   \n",
              "498  [('iStream', 1), ('Candle Inferno', 1), ('iAss...       5030.0   \n",
              "499  [('iStream', 1), ('Toshika 750', 1), ('Alcon 1...      22370.0   \n",
              "\n",
              "     delivery_charges  customer_lat  customer_long  coupon_discount  \\\n",
              "0               79.89    -37.815105     144.932843               10   \n",
              "1               62.71    -37.802736     144.951118                0   \n",
              "2               65.87    -37.821302     144.957581               10   \n",
              "3               57.61    -37.811416     144.973073               15   \n",
              "4               75.54     37.823859     144.969892               25   \n",
              "..                ...           ...            ...              ...   \n",
              "495             59.70    -37.817662     144.970405               10   \n",
              "496             62.29    -37.815469     144.968083                0   \n",
              "497            106.98    -37.805979     144.966101                0   \n",
              "498             79.89     37.820071     144.984435               10   \n",
              "499             64.62    -37.812231     144.988679               15   \n",
              "\n",
              "    order_total  season  is_expedited_delivery  distance_to_nearest_warehouse  \\\n",
              "0      11059.89  Winter                   True                         1.2800   \n",
              "1       9142.71  Summer                  False                         1.1621   \n",
              "2       9668.87  Autumn                  False                         1.0949   \n",
              "3      21137.61  Summer                  False                         0.8571   \n",
              "4       6934.29  Spring                  False                         0.5867   \n",
              "..          ...     ...                    ...                            ...   \n",
              "495     20174.7  Winter                   True                         0.1282   \n",
              "496    22182.29  Autumn                   True                         0.3711   \n",
              "497    16596.98  Spring                   True                         1.4368   \n",
              "498     4606.89  Autumn                   True                         1.3191   \n",
              "499    19079.12  Autumn                   True                         0.6277   \n",
              "\n",
              "                                latest_customer_review  is_happy_customer  \n",
              "0    perfect phone and trusted seller. phone itself...               True  \n",
              "1    it keeps dropping calls the wifi don't work th...              False  \n",
              "2              five stars this is a great cheap phone.               True  \n",
              "3          charger did not fit the charger didn't fit.              False  \n",
              "4                                      four stars good               True  \n",
              "..                                                 ...                ...  \n",
              "495  i bought this phone to send to my sister in .....              False  \n",
              "496                    one star it was the wrong phone              False  \n",
              "497          love this phone! has many great features!               True  \n",
              "498  spoiled son's birthday present son wanted one ...               True  \n",
              "499  two stars the phone is way smaller then it loo...              False  \n",
              "\n",
              "[493 rows x 16 columns]"
            ],
            "text/html": [
              "\n",
              "  <div id=\"df-64f98e68-134c-4130-a870-7792b3e8e478\">\n",
              "    <div class=\"colab-df-container\">\n",
              "      <div>\n",
              "<style scoped>\n",
              "    .dataframe tbody tr th:only-of-type {\n",
              "        vertical-align: middle;\n",
              "    }\n",
              "\n",
              "    .dataframe tbody tr th {\n",
              "        vertical-align: top;\n",
              "    }\n",
              "\n",
              "    .dataframe thead th {\n",
              "        text-align: right;\n",
              "    }\n",
              "</style>\n",
              "<table border=\"1\" class=\"dataframe\">\n",
              "  <thead>\n",
              "    <tr style=\"text-align: right;\">\n",
              "      <th></th>\n",
              "      <th>order_id</th>\n",
              "      <th>customer_id</th>\n",
              "      <th>date</th>\n",
              "      <th>nearest_warehouse</th>\n",
              "      <th>shopping_cart</th>\n",
              "      <th>order_price</th>\n",
              "      <th>delivery_charges</th>\n",
              "      <th>customer_lat</th>\n",
              "      <th>customer_long</th>\n",
              "      <th>coupon_discount</th>\n",
              "      <th>order_total</th>\n",
              "      <th>season</th>\n",
              "      <th>is_expedited_delivery</th>\n",
              "      <th>distance_to_nearest_warehouse</th>\n",
              "      <th>latest_customer_review</th>\n",
              "      <th>is_happy_customer</th>\n",
              "    </tr>\n",
              "  </thead>\n",
              "  <tbody>\n",
              "    <tr>\n",
              "      <th>0</th>\n",
              "      <td>ORD182494</td>\n",
              "      <td>ID6197211592</td>\n",
              "      <td>2019-06-22</td>\n",
              "      <td>Thompson</td>\n",
              "      <td>[('Lucent 330S', 1), ('Thunder line', 2), ('iS...</td>\n",
              "      <td>12200.0</td>\n",
              "      <td>79.89</td>\n",
              "      <td>-37.815105</td>\n",
              "      <td>144.932843</td>\n",
              "      <td>10</td>\n",
              "      <td>11059.89</td>\n",
              "      <td>Winter</td>\n",
              "      <td>True</td>\n",
              "      <td>1.2800</td>\n",
              "      <td>perfect phone and trusted seller. phone itself...</td>\n",
              "      <td>True</td>\n",
              "    </tr>\n",
              "    <tr>\n",
              "      <th>1</th>\n",
              "      <td>ORD395518</td>\n",
              "      <td>ID0282825849</td>\n",
              "      <td>2019-12-29</td>\n",
              "      <td>Thompson</td>\n",
              "      <td>[('Thunder line', 1), ('Universe Note', 2)]</td>\n",
              "      <td>9080.0</td>\n",
              "      <td>62.71</td>\n",
              "      <td>-37.802736</td>\n",
              "      <td>144.951118</td>\n",
              "      <td>0</td>\n",
              "      <td>9142.71</td>\n",
              "      <td>Summer</td>\n",
              "      <td>False</td>\n",
              "      <td>1.1621</td>\n",
              "      <td>it keeps dropping calls the wifi don't work th...</td>\n",
              "      <td>False</td>\n",
              "    </tr>\n",
              "    <tr>\n",
              "      <th>2</th>\n",
              "      <td>ORD494479</td>\n",
              "      <td>ID0579391891</td>\n",
              "      <td>2019-02-03</td>\n",
              "      <td>Nickolson</td>\n",
              "      <td>[('Thunder line', 1), ('pearTV', 2)]</td>\n",
              "      <td>10670.0</td>\n",
              "      <td>65.87</td>\n",
              "      <td>-37.821302</td>\n",
              "      <td>144.957581</td>\n",
              "      <td>10</td>\n",
              "      <td>9668.87</td>\n",
              "      <td>Autumn</td>\n",
              "      <td>False</td>\n",
              "      <td>1.0949</td>\n",
              "      <td>five stars this is a great cheap phone.</td>\n",
              "      <td>True</td>\n",
              "    </tr>\n",
              "    <tr>\n",
              "      <th>3</th>\n",
              "      <td>ORD019224</td>\n",
              "      <td>ID4544561904</td>\n",
              "      <td>2019-12-01</td>\n",
              "      <td>Nickolson</td>\n",
              "      <td>[('Universe Note', 1), ('Alcon 10', 2), ('Oliv...</td>\n",
              "      <td>24800.0</td>\n",
              "      <td>57.61</td>\n",
              "      <td>-37.811416</td>\n",
              "      <td>144.973073</td>\n",
              "      <td>15</td>\n",
              "      <td>21137.61</td>\n",
              "      <td>Summer</td>\n",
              "      <td>False</td>\n",
              "      <td>0.8571</td>\n",
              "      <td>charger did not fit the charger didn't fit.</td>\n",
              "      <td>False</td>\n",
              "    </tr>\n",
              "    <tr>\n",
              "      <th>4</th>\n",
              "      <td>ORD104032</td>\n",
              "      <td>ID6231506320</td>\n",
              "      <td>2019-11-28</td>\n",
              "      <td>Nickolson</td>\n",
              "      <td>[('Universe Note', 1), ('Olivia x460', 1), ('i...</td>\n",
              "      <td>9145.0</td>\n",
              "      <td>75.54</td>\n",
              "      <td>37.823859</td>\n",
              "      <td>144.969892</td>\n",
              "      <td>25</td>\n",
              "      <td>6934.29</td>\n",
              "      <td>Spring</td>\n",
              "      <td>False</td>\n",
              "      <td>0.5867</td>\n",
              "      <td>four stars good</td>\n",
              "      <td>True</td>\n",
              "    </tr>\n",
              "    <tr>\n",
              "      <th>...</th>\n",
              "      <td>...</td>\n",
              "      <td>...</td>\n",
              "      <td>...</td>\n",
              "      <td>...</td>\n",
              "      <td>...</td>\n",
              "      <td>...</td>\n",
              "      <td>...</td>\n",
              "      <td>...</td>\n",
              "      <td>...</td>\n",
              "      <td>...</td>\n",
              "      <td>...</td>\n",
              "      <td>...</td>\n",
              "      <td>...</td>\n",
              "      <td>...</td>\n",
              "      <td>...</td>\n",
              "      <td>...</td>\n",
              "    </tr>\n",
              "    <tr>\n",
              "      <th>495</th>\n",
              "      <td>ORD475510</td>\n",
              "      <td>ID0247417082</td>\n",
              "      <td>2019-07-08</td>\n",
              "      <td>Nickolson</td>\n",
              "      <td>[('Alcon 10', 2), ('iAssist Line', 2)]</td>\n",
              "      <td>386776.0</td>\n",
              "      <td>59.70</td>\n",
              "      <td>-37.817662</td>\n",
              "      <td>144.970405</td>\n",
              "      <td>10</td>\n",
              "      <td>20174.7</td>\n",
              "      <td>Winter</td>\n",
              "      <td>True</td>\n",
              "      <td>0.1282</td>\n",
              "      <td>i bought this phone to send to my sister in .....</td>\n",
              "      <td>False</td>\n",
              "    </tr>\n",
              "    <tr>\n",
              "      <th>496</th>\n",
              "      <td>ORD086060</td>\n",
              "      <td>ID0130015098</td>\n",
              "      <td>2019-03-28</td>\n",
              "      <td>Nickolson</td>\n",
              "      <td>[('pearTV', 2), ('Candle Inferno', 2), ('Toshi...</td>\n",
              "      <td>22120.0</td>\n",
              "      <td>62.29</td>\n",
              "      <td>-37.815469</td>\n",
              "      <td>144.968083</td>\n",
              "      <td>0</td>\n",
              "      <td>22182.29</td>\n",
              "      <td>Autumn</td>\n",
              "      <td>True</td>\n",
              "      <td>0.3711</td>\n",
              "      <td>one star it was the wrong phone</td>\n",
              "      <td>False</td>\n",
              "    </tr>\n",
              "    <tr>\n",
              "      <th>497</th>\n",
              "      <td>ORD079320</td>\n",
              "      <td>ID2707985442</td>\n",
              "      <td>2019-10-16</td>\n",
              "      <td>Nickolson</td>\n",
              "      <td>[('pearTV', 1), ('Alcon 10', 1), ('Lucent 330S...</td>\n",
              "      <td>16490.0</td>\n",
              "      <td>106.98</td>\n",
              "      <td>-37.805979</td>\n",
              "      <td>144.966101</td>\n",
              "      <td>0</td>\n",
              "      <td>16596.98</td>\n",
              "      <td>Spring</td>\n",
              "      <td>True</td>\n",
              "      <td>1.4368</td>\n",
              "      <td>love this phone! has many great features!</td>\n",
              "      <td>True</td>\n",
              "    </tr>\n",
              "    <tr>\n",
              "      <th>498</th>\n",
              "      <td>ORD026546</td>\n",
              "      <td>ID0060088412</td>\n",
              "      <td>2019-05-19</td>\n",
              "      <td>Nickolson</td>\n",
              "      <td>[('iStream', 1), ('Candle Inferno', 1), ('iAss...</td>\n",
              "      <td>5030.0</td>\n",
              "      <td>79.89</td>\n",
              "      <td>37.820071</td>\n",
              "      <td>144.984435</td>\n",
              "      <td>10</td>\n",
              "      <td>4606.89</td>\n",
              "      <td>Autumn</td>\n",
              "      <td>True</td>\n",
              "      <td>1.3191</td>\n",
              "      <td>spoiled son's birthday present son wanted one ...</td>\n",
              "      <td>True</td>\n",
              "    </tr>\n",
              "    <tr>\n",
              "      <th>499</th>\n",
              "      <td>ORD085447</td>\n",
              "      <td>ID5257193650</td>\n",
              "      <td>2019-05-25</td>\n",
              "      <td>Bakers</td>\n",
              "      <td>[('iStream', 1), ('Toshika 750', 1), ('Alcon 1...</td>\n",
              "      <td>22370.0</td>\n",
              "      <td>64.62</td>\n",
              "      <td>-37.812231</td>\n",
              "      <td>144.988679</td>\n",
              "      <td>15</td>\n",
              "      <td>19079.12</td>\n",
              "      <td>Autumn</td>\n",
              "      <td>True</td>\n",
              "      <td>0.6277</td>\n",
              "      <td>two stars the phone is way smaller then it loo...</td>\n",
              "      <td>False</td>\n",
              "    </tr>\n",
              "  </tbody>\n",
              "</table>\n",
              "<p>493 rows × 16 columns</p>\n",
              "</div>\n",
              "      <button class=\"colab-df-convert\" onclick=\"convertToInteractive('df-64f98e68-134c-4130-a870-7792b3e8e478')\"\n",
              "              title=\"Convert this dataframe to an interactive table.\"\n",
              "              style=\"display:none;\">\n",
              "        \n",
              "  <svg xmlns=\"http://www.w3.org/2000/svg\" height=\"24px\"viewBox=\"0 0 24 24\"\n",
              "       width=\"24px\">\n",
              "    <path d=\"M0 0h24v24H0V0z\" fill=\"none\"/>\n",
              "    <path d=\"M18.56 5.44l.94 2.06.94-2.06 2.06-.94-2.06-.94-.94-2.06-.94 2.06-2.06.94zm-11 1L8.5 8.5l.94-2.06 2.06-.94-2.06-.94L8.5 2.5l-.94 2.06-2.06.94zm10 10l.94 2.06.94-2.06 2.06-.94-2.06-.94-.94-2.06-.94 2.06-2.06.94z\"/><path d=\"M17.41 7.96l-1.37-1.37c-.4-.4-.92-.59-1.43-.59-.52 0-1.04.2-1.43.59L10.3 9.45l-7.72 7.72c-.78.78-.78 2.05 0 2.83L4 21.41c.39.39.9.59 1.41.59.51 0 1.02-.2 1.41-.59l7.78-7.78 2.81-2.81c.8-.78.8-2.07 0-2.86zM5.41 20L4 18.59l7.72-7.72 1.47 1.35L5.41 20z\"/>\n",
              "  </svg>\n",
              "      </button>\n",
              "      \n",
              "  <style>\n",
              "    .colab-df-container {\n",
              "      display:flex;\n",
              "      flex-wrap:wrap;\n",
              "      gap: 12px;\n",
              "    }\n",
              "\n",
              "    .colab-df-convert {\n",
              "      background-color: #E8F0FE;\n",
              "      border: none;\n",
              "      border-radius: 50%;\n",
              "      cursor: pointer;\n",
              "      display: none;\n",
              "      fill: #1967D2;\n",
              "      height: 32px;\n",
              "      padding: 0 0 0 0;\n",
              "      width: 32px;\n",
              "    }\n",
              "\n",
              "    .colab-df-convert:hover {\n",
              "      background-color: #E2EBFA;\n",
              "      box-shadow: 0px 1px 2px rgba(60, 64, 67, 0.3), 0px 1px 3px 1px rgba(60, 64, 67, 0.15);\n",
              "      fill: #174EA6;\n",
              "    }\n",
              "\n",
              "    [theme=dark] .colab-df-convert {\n",
              "      background-color: #3B4455;\n",
              "      fill: #D2E3FC;\n",
              "    }\n",
              "\n",
              "    [theme=dark] .colab-df-convert:hover {\n",
              "      background-color: #434B5C;\n",
              "      box-shadow: 0px 1px 3px 1px rgba(0, 0, 0, 0.15);\n",
              "      filter: drop-shadow(0px 1px 2px rgba(0, 0, 0, 0.3));\n",
              "      fill: #FFFFFF;\n",
              "    }\n",
              "  </style>\n",
              "\n",
              "      <script>\n",
              "        const buttonEl =\n",
              "          document.querySelector('#df-64f98e68-134c-4130-a870-7792b3e8e478 button.colab-df-convert');\n",
              "        buttonEl.style.display =\n",
              "          google.colab.kernel.accessAllowed ? 'block' : 'none';\n",
              "\n",
              "        async function convertToInteractive(key) {\n",
              "          const element = document.querySelector('#df-64f98e68-134c-4130-a870-7792b3e8e478');\n",
              "          const dataTable =\n",
              "            await google.colab.kernel.invokeFunction('convertToInteractive',\n",
              "                                                     [key], {});\n",
              "          if (!dataTable) return;\n",
              "\n",
              "          const docLinkHtml = 'Like what you see? Visit the ' +\n",
              "            '<a target=\"_blank\" href=https://colab.research.google.com/notebooks/data_table.ipynb>data table notebook</a>'\n",
              "            + ' to learn more about interactive tables.';\n",
              "          element.innerHTML = '';\n",
              "          dataTable['output_type'] = 'display_data';\n",
              "          await google.colab.output.renderOutput(dataTable, element);\n",
              "          const docLink = document.createElement('div');\n",
              "          docLink.innerHTML = docLinkHtml;\n",
              "          element.appendChild(docLink);\n",
              "        }\n",
              "      </script>\n",
              "    </div>\n",
              "  </div>\n",
              "  "
            ]
          },
          "metadata": {},
          "execution_count": 52
        }
      ]
    },
    {
      "cell_type": "code",
      "source": [
        "# Replacing anything from column containing ALphabet or special character.\n",
        "# dirty_data['order_total']= dirty_data['order_total'].str.replace('[a-zA-Z\\W]', '') # this method also removed the special characters like (.)\n",
        "# correct code will be...\n",
        "\n",
        "dirty_data['order_total']=  dirty_data['order_total'].str.replace('[^0-9.]', '')\n"
      ],
      "metadata": {
        "id": "9F47doy9etPy",
        "colab": {
          "base_uri": "https://localhost:8080/"
        },
        "outputId": "72ed2b17-dcef-43d0-f124-93a24df3c229"
      },
      "execution_count": 53,
      "outputs": [
        {
          "output_type": "stream",
          "name": "stderr",
          "text": [
            "<ipython-input-53-79382c5327c2>:5: FutureWarning: The default value of regex will change from True to False in a future version.\n",
            "  dirty_data['order_total']=  dirty_data['order_total'].str.replace('[^0-9.]', '')\n"
          ]
        }
      ]
    },
    {
      "cell_type": "code",
      "source": [
        "dirty_data['order_total']= dirty_data['order_total'].astype('float64')"
      ],
      "metadata": {
        "id": "6IaIbgEd04JA"
      },
      "execution_count": 56,
      "outputs": []
    },
    {
      "cell_type": "code",
      "source": [
        "dirty_data.info()"
      ],
      "metadata": {
        "id": "hsZ0ipEbetSZ",
        "colab": {
          "base_uri": "https://localhost:8080/"
        },
        "outputId": "28632d27-27b8-45aa-a25d-5502eb4828ac"
      },
      "execution_count": 57,
      "outputs": [
        {
          "output_type": "stream",
          "name": "stdout",
          "text": [
            "<class 'pandas.core.frame.DataFrame'>\n",
            "RangeIndex: 500 entries, 0 to 499\n",
            "Data columns (total 16 columns):\n",
            " #   Column                         Non-Null Count  Dtype         \n",
            "---  ------                         --------------  -----         \n",
            " 0   order_id                       500 non-null    object        \n",
            " 1   customer_id                    500 non-null    object        \n",
            " 2   date                           500 non-null    datetime64[ns]\n",
            " 3   nearest_warehouse              500 non-null    object        \n",
            " 4   shopping_cart                  500 non-null    object        \n",
            " 5   order_price                    500 non-null    float64       \n",
            " 6   delivery_charges               500 non-null    float64       \n",
            " 7   customer_lat                   500 non-null    float64       \n",
            " 8   customer_long                  500 non-null    float64       \n",
            " 9   coupon_discount                500 non-null    int64         \n",
            " 10  order_total                    500 non-null    float64       \n",
            " 11  season                         500 non-null    object        \n",
            " 12  is_expedited_delivery          500 non-null    bool          \n",
            " 13  distance_to_nearest_warehouse  500 non-null    float64       \n",
            " 14  latest_customer_review         500 non-null    object        \n",
            " 15  is_happy_customer              500 non-null    bool          \n",
            "dtypes: bool(2), datetime64[ns](1), float64(6), int64(1), object(6)\n",
            "memory usage: 55.8+ KB\n"
          ]
        }
      ]
    },
    {
      "cell_type": "code",
      "source": [
        "sum(dirty_data.order_total.values)"
      ],
      "metadata": {
        "id": "fH_-hFq8etVc",
        "colab": {
          "base_uri": "https://localhost:8080/"
        },
        "outputId": "f709bd29-4199-4901-fe8b-5392132cd774"
      },
      "execution_count": 60,
      "outputs": [
        {
          "output_type": "execute_result",
          "data": {
            "text/plain": [
              "19606261.840000015"
            ]
          },
          "metadata": {},
          "execution_count": 60
        }
      ]
    },
    {
      "cell_type": "markdown",
      "source": [
        "Checking For Name Description of Data\n",
        "\n",
        "\n",
        "\n",
        "\n",
        "\n",
        "\n",
        "\n",
        "\n"
      ],
      "metadata": {
        "id": "_fS12NyJ1jkC"
      }
    },
    {
      "cell_type": "code",
      "source": [
        "dirty_data['nearest_warehouse'].unique()"
      ],
      "metadata": {
        "id": "fSYWVXlGetYL",
        "colab": {
          "base_uri": "https://localhost:8080/"
        },
        "outputId": "94732668-637b-4886-f403-d86b7de0de47"
      },
      "execution_count": 62,
      "outputs": [
        {
          "output_type": "execute_result",
          "data": {
            "text/plain": [
              "array(['Thompson', 'Nickolson', 'Bakers', 'nickolson', 'thompson'],\n",
              "      dtype=object)"
            ]
          },
          "metadata": {},
          "execution_count": 62
        }
      ]
    },
    {
      "cell_type": "code",
      "source": [
        "#Convert the values into similar names\n",
        "\n",
        "dirty_data.nearest_warehouse= dirty_data.nearest_warehouse.str.title()"
      ],
      "metadata": {
        "id": "xV2XEwvcetbC"
      },
      "execution_count": 63,
      "outputs": []
    },
    {
      "cell_type": "code",
      "source": [
        "dirty_data.nearest_warehouse.unique()"
      ],
      "metadata": {
        "id": "vNYiK1IIetdl",
        "colab": {
          "base_uri": "https://localhost:8080/"
        },
        "outputId": "6520b130-794a-4091-9eef-15f3a498a7f7"
      },
      "execution_count": 64,
      "outputs": [
        {
          "output_type": "execute_result",
          "data": {
            "text/plain": [
              "array(['Thompson', 'Nickolson', 'Bakers'], dtype=object)"
            ]
          },
          "metadata": {},
          "execution_count": 64
        }
      ]
    },
    {
      "cell_type": "code",
      "source": [
        "#Count of Unique values in Column\n",
        "warehouse= dirty_data.nearest_warehouse.value_counts()\n",
        "print(warehouse)"
      ],
      "metadata": {
        "id": "d4qLXgycetg1",
        "colab": {
          "base_uri": "https://localhost:8080/"
        },
        "outputId": "99a71c09-8c21-4e71-fbbb-8b166c827faa"
      },
      "execution_count": 66,
      "outputs": [
        {
          "output_type": "stream",
          "name": "stdout",
          "text": [
            "Thompson     197\n",
            "Nickolson    184\n",
            "Bakers       119\n",
            "Name: nearest_warehouse, dtype: int64\n"
          ]
        }
      ]
    },
    {
      "cell_type": "markdown",
      "source": [
        "**Bar Chart and Pie Chart**"
      ],
      "metadata": {
        "id": "Oa37FS6S4WxS"
      }
    },
    {
      "cell_type": "code",
      "source": [
        "# Visualization of Unique  values in Nearest Warehouse Column\n",
        "\n",
        "warehouse.plot(kind='bar', rot=1, color=['r','b', 'g'],figsize=(5,5)),\n",
        "plt.title('Quantity of Warehouse\\n', size= 15)\n",
        "plt.ylabel('Counts');"
      ],
      "metadata": {
        "id": "3-yHY6GHetjV",
        "colab": {
          "base_uri": "https://localhost:8080/",
          "height": 494
        },
        "outputId": "1126da33-edab-4780-ab27-d3aef28b3d55"
      },
      "execution_count": 71,
      "outputs": [
        {
          "output_type": "display_data",
          "data": {
            "text/plain": [
              "<Figure size 500x500 with 1 Axes>"
            ],
            "image/png": "[encoded data removed]"
          },
          "metadata": {}
        }
      ]
    },
    {
      "cell_type": "code",
      "source": [
        "#plotting Pie chart for checking % share of each warehouse\n",
        "\n",
        "plt.pie(warehouse,\n",
        "        labels=['Thompson', 'Nickolson', 'Bakers'],\n",
        "        autopct=\"%0.1f%%\",\n",
        "        explode=[0,.01,.1],\n",
        "        startangle=60, radius=.8)\n",
        "plt.title(\"Quantity of Warehouses\", size= 15)\n",
        "plt.show()"
      ],
      "metadata": {
        "id": "ugfjSQUhetl9",
        "colab": {
          "base_uri": "https://localhost:8080/",
          "height": 430
        },
        "outputId": "83dd989e-2a74-43be-b72a-d53965687544"
      },
      "execution_count": 76,
      "outputs": [
        {
          "output_type": "display_data",
          "data": {
            "text/plain": [
              "<Figure size 640x480 with 1 Axes>"
            ],
            "image/png": "[encoded data removed]"
          },
          "metadata": {}
        }
      ]
    },
    {
      "cell_type": "markdown",
      "source": [
        "**Analyzing order price and Order Total**\n",
        "\n",
        "\n",
        "1.   Order_Price= Price Before any discount or delivery charges\n",
        "2.   Order_Total= Price after all discount and delivery charges applied\n",
        "\n",
        "\n",
        "\n",
        "\n",
        "\n",
        "\n"
      ],
      "metadata": {
        "id": "ljDqTRij9eqR"
      }
    },
    {
      "cell_type": "markdown",
      "source": [
        "**Get Max and Min Values**"
      ],
      "metadata": {
        "id": "2UvVszrj-j4s"
      }
    },
    {
      "cell_type": "code",
      "source": [
        "# Checking for maximum valued order\n",
        "dirty_data[dirty_data.order_price== dirty_data.order_price.max()]"
      ],
      "metadata": {
        "id": "OGgHftQpetqt",
        "colab": {
          "base_uri": "https://localhost:8080/",
          "height": 179
        },
        "outputId": "de18c4b0-088a-4b1b-eceb-dc9f4870e9f2"
      },
      "execution_count": 79,
      "outputs": [
        {
          "output_type": "execute_result",
          "data": {
            "text/plain": [
              "      order_id   customer_id       date nearest_warehouse  \\\n",
              "335  ORD116440  ID0332546017 2019-12-31          Thompson   \n",
              "\n",
              "                                         shopping_cart  order_price  \\\n",
              "335  [('Lucent 330S', 1), ('iAssist Line', 1), ('Ca...     947691.0   \n",
              "\n",
              "     delivery_charges  customer_lat  customer_long  coupon_discount  \\\n",
              "335             90.82    -37.809368     144.949342               10   \n",
              "\n",
              "     order_total  season  is_expedited_delivery  \\\n",
              "335      9266.32  Summer                   True   \n",
              "\n",
              "     distance_to_nearest_warehouse                  latest_customer_review  \\\n",
              "335                         0.4187  work fine great product and no issues.   \n",
              "\n",
              "     is_happy_customer  \n",
              "335               True  "
            ],
            "text/html": [
              "\n",
              "  <div id=\"df-f1c9269a-714d-4c4a-b1c1-3b2b821c52c7\">\n",
              "    <div class=\"colab-df-container\">\n",
              "      <div>\n",
              "<style scoped>\n",
              "    .dataframe tbody tr th:only-of-type {\n",
              "        vertical-align: middle;\n",
              "    }\n",
              "\n",
              "    .dataframe tbody tr th {\n",
              "        vertical-align: top;\n",
              "    }\n",
              "\n",
              "    .dataframe thead th {\n",
              "        text-align: right;\n",
              "    }\n",
              "</style>\n",
              "<table border=\"1\" class=\"dataframe\">\n",
              "  <thead>\n",
              "    <tr style=\"text-align: right;\">\n",
              "      <th></th>\n",
              "      <th>order_id</th>\n",
              "      <th>customer_id</th>\n",
              "      <th>date</th>\n",
              "      <th>nearest_warehouse</th>\n",
              "      <th>shopping_cart</th>\n",
              "      <th>order_price</th>\n",
              "      <th>delivery_charges</th>\n",
              "      <th>customer_lat</th>\n",
              "      <th>customer_long</th>\n",
              "      <th>coupon_discount</th>\n",
              "      <th>order_total</th>\n",
              "      <th>season</th>\n",
              "      <th>is_expedited_delivery</th>\n",
              "      <th>distance_to_nearest_warehouse</th>\n",
              "      <th>latest_customer_review</th>\n",
              "      <th>is_happy_customer</th>\n",
              "    </tr>\n",
              "  </thead>\n",
              "  <tbody>\n",
              "    <tr>\n",
              "      <th>335</th>\n",
              "      <td>ORD116440</td>\n",
              "      <td>ID0332546017</td>\n",
              "      <td>2019-12-31</td>\n",
              "      <td>Thompson</td>\n",
              "      <td>[('Lucent 330S', 1), ('iAssist Line', 1), ('Ca...</td>\n",
              "      <td>947691.0</td>\n",
              "      <td>90.82</td>\n",
              "      <td>-37.809368</td>\n",
              "      <td>144.949342</td>\n",
              "      <td>10</td>\n",
              "      <td>9266.32</td>\n",
              "      <td>Summer</td>\n",
              "      <td>True</td>\n",
              "      <td>0.4187</td>\n",
              "      <td>work fine great product and no issues.</td>\n",
              "      <td>True</td>\n",
              "    </tr>\n",
              "  </tbody>\n",
              "</table>\n",
              "</div>\n",
              "      <button class=\"colab-df-convert\" onclick=\"convertToInteractive('df-f1c9269a-714d-4c4a-b1c1-3b2b821c52c7')\"\n",
              "              title=\"Convert this dataframe to an interactive table.\"\n",
              "              style=\"display:none;\">\n",
              "        \n",
              "  <svg xmlns=\"http://www.w3.org/2000/svg\" height=\"24px\"viewBox=\"0 0 24 24\"\n",
              "       width=\"24px\">\n",
              "    <path d=\"M0 0h24v24H0V0z\" fill=\"none\"/>\n",
              "    <path d=\"M18.56 5.44l.94 2.06.94-2.06 2.06-.94-2.06-.94-.94-2.06-.94 2.06-2.06.94zm-11 1L8.5 8.5l.94-2.06 2.06-.94-2.06-.94L8.5 2.5l-.94 2.06-2.06.94zm10 10l.94 2.06.94-2.06 2.06-.94-2.06-.94-.94-2.06-.94 2.06-2.06.94z\"/><path d=\"M17.41 7.96l-1.37-1.37c-.4-.4-.92-.59-1.43-.59-.52 0-1.04.2-1.43.59L10.3 9.45l-7.72 7.72c-.78.78-.78 2.05 0 2.83L4 21.41c.39.39.9.59 1.41.59.51 0 1.02-.2 1.41-.59l7.78-7.78 2.81-2.81c.8-.78.8-2.07 0-2.86zM5.41 20L4 18.59l7.72-7.72 1.47 1.35L5.41 20z\"/>\n",
              "  </svg>\n",
              "      </button>\n",
              "      \n",
              "  <style>\n",
              "    .colab-df-container {\n",
              "      display:flex;\n",
              "      flex-wrap:wrap;\n",
              "      gap: 12px;\n",
              "    }\n",
              "\n",
              "    .colab-df-convert {\n",
              "      background-color: #E8F0FE;\n",
              "      border: none;\n",
              "      border-radius: 50%;\n",
              "      cursor: pointer;\n",
              "      display: none;\n",
              "      fill: #1967D2;\n",
              "      height: 32px;\n",
              "      padding: 0 0 0 0;\n",
              "      width: 32px;\n",
              "    }\n",
              "\n",
              "    .colab-df-convert:hover {\n",
              "      background-color: #E2EBFA;\n",
              "      box-shadow: 0px 1px 2px rgba(60, 64, 67, 0.3), 0px 1px 3px 1px rgba(60, 64, 67, 0.15);\n",
              "      fill: #174EA6;\n",
              "    }\n",
              "\n",
              "    [theme=dark] .colab-df-convert {\n",
              "      background-color: #3B4455;\n",
              "      fill: #D2E3FC;\n",
              "    }\n",
              "\n",
              "    [theme=dark] .colab-df-convert:hover {\n",
              "      background-color: #434B5C;\n",
              "      box-shadow: 0px 1px 3px 1px rgba(0, 0, 0, 0.15);\n",
              "      filter: drop-shadow(0px 1px 2px rgba(0, 0, 0, 0.3));\n",
              "      fill: #FFFFFF;\n",
              "    }\n",
              "  </style>\n",
              "\n",
              "      <script>\n",
              "        const buttonEl =\n",
              "          document.querySelector('#df-f1c9269a-714d-4c4a-b1c1-3b2b821c52c7 button.colab-df-convert');\n",
              "        buttonEl.style.display =\n",
              "          google.colab.kernel.accessAllowed ? 'block' : 'none';\n",
              "\n",
              "        async function convertToInteractive(key) {\n",
              "          const element = document.querySelector('#df-f1c9269a-714d-4c4a-b1c1-3b2b821c52c7');\n",
              "          const dataTable =\n",
              "            await google.colab.kernel.invokeFunction('convertToInteractive',\n",
              "                                                     [key], {});\n",
              "          if (!dataTable) return;\n",
              "\n",
              "          const docLinkHtml = 'Like what you see? Visit the ' +\n",
              "            '<a target=\"_blank\" href=https://colab.research.google.com/notebooks/data_table.ipynb>data table notebook</a>'\n",
              "            + ' to learn more about interactive tables.';\n",
              "          element.innerHTML = '';\n",
              "          dataTable['output_type'] = 'display_data';\n",
              "          await google.colab.output.renderOutput(dataTable, element);\n",
              "          const docLink = document.createElement('div');\n",
              "          docLink.innerHTML = docLinkHtml;\n",
              "          element.appendChild(docLink);\n",
              "        }\n",
              "      </script>\n",
              "    </div>\n",
              "  </div>\n",
              "  "
            ]
          },
          "metadata": {},
          "execution_count": 79
        }
      ]
    },
    {
      "cell_type": "code",
      "source": [
        "# Checking for Minimum valued order\n",
        "dirty_data[dirty_data.order_price== dirty_data.order_price.min()]"
      ],
      "metadata": {
        "id": "Np1BJ0y7etuj",
        "colab": {
          "base_uri": "https://localhost:8080/",
          "height": 179
        },
        "outputId": "701588e6-e19a-43bb-f7cb-378908e72785"
      },
      "execution_count": 80,
      "outputs": [
        {
          "output_type": "execute_result",
          "data": {
            "text/plain": [
              "      order_id   customer_id       date nearest_warehouse  \\\n",
              "308  ORD165713  ID2384157684 2019-11-23            Bakers   \n",
              "\n",
              "                               shopping_cart  order_price  delivery_charges  \\\n",
              "308  [('iStream', 2), ('Candle Inferno', 1)]        585.0             91.79   \n",
              "\n",
              "     customer_lat  customer_long  coupon_discount  order_total  season  \\\n",
              "308    -37.800798     145.005428               25       639.29  Spring   \n",
              "\n",
              "     is_expedited_delivery  distance_to_nearest_warehouse  \\\n",
              "308                   True                          1.361   \n",
              "\n",
              "                                latest_customer_review  is_happy_customer  \n",
              "308  junk had this thing for less than 2 months. ha...              False  "
            ],
            "text/html": [
              "\n",
              "  <div id=\"df-a68eaef8-df27-4fb6-ab52-6febffc0ebc6\">\n",
              "    <div class=\"colab-df-container\">\n",
              "      <div>\n",
              "<style scoped>\n",
              "    .dataframe tbody tr th:only-of-type {\n",
              "        vertical-align: middle;\n",
              "    }\n",
              "\n",
              "    .dataframe tbody tr th {\n",
              "        vertical-align: top;\n",
              "    }\n",
              "\n",
              "    .dataframe thead th {\n",
              "        text-align: right;\n",
              "    }\n",
              "</style>\n",
              "<table border=\"1\" class=\"dataframe\">\n",
              "  <thead>\n",
              "    <tr style=\"text-align: right;\">\n",
              "      <th></th>\n",
              "      <th>order_id</th>\n",
              "      <th>customer_id</th>\n",
              "      <th>date</th>\n",
              "      <th>nearest_warehouse</th>\n",
              "      <th>shopping_cart</th>\n",
              "      <th>order_price</th>\n",
              "      <th>delivery_charges</th>\n",
              "      <th>customer_lat</th>\n",
              "      <th>customer_long</th>\n",
              "      <th>coupon_discount</th>\n",
              "      <th>order_total</th>\n",
              "      <th>season</th>\n",
              "      <th>is_expedited_delivery</th>\n",
              "      <th>distance_to_nearest_warehouse</th>\n",
              "      <th>latest_customer_review</th>\n",
              "      <th>is_happy_customer</th>\n",
              "    </tr>\n",
              "  </thead>\n",
              "  <tbody>\n",
              "    <tr>\n",
              "      <th>308</th>\n",
              "      <td>ORD165713</td>\n",
              "      <td>ID2384157684</td>\n",
              "      <td>2019-11-23</td>\n",
              "      <td>Bakers</td>\n",
              "      <td>[('iStream', 2), ('Candle Inferno', 1)]</td>\n",
              "      <td>585.0</td>\n",
              "      <td>91.79</td>\n",
              "      <td>-37.800798</td>\n",
              "      <td>145.005428</td>\n",
              "      <td>25</td>\n",
              "      <td>639.29</td>\n",
              "      <td>Spring</td>\n",
              "      <td>True</td>\n",
              "      <td>1.361</td>\n",
              "      <td>junk had this thing for less than 2 months. ha...</td>\n",
              "      <td>False</td>\n",
              "    </tr>\n",
              "  </tbody>\n",
              "</table>\n",
              "</div>\n",
              "      <button class=\"colab-df-convert\" onclick=\"convertToInteractive('df-a68eaef8-df27-4fb6-ab52-6febffc0ebc6')\"\n",
              "              title=\"Convert this dataframe to an interactive table.\"\n",
              "              style=\"display:none;\">\n",
              "        \n",
              "  <svg xmlns=\"http://www.w3.org/2000/svg\" height=\"24px\"viewBox=\"0 0 24 24\"\n",
              "       width=\"24px\">\n",
              "    <path d=\"M0 0h24v24H0V0z\" fill=\"none\"/>\n",
              "    <path d=\"M18.56 5.44l.94 2.06.94-2.06 2.06-.94-2.06-.94-.94-2.06-.94 2.06-2.06.94zm-11 1L8.5 8.5l.94-2.06 2.06-.94-2.06-.94L8.5 2.5l-.94 2.06-2.06.94zm10 10l.94 2.06.94-2.06 2.06-.94-2.06-.94-.94-2.06-.94 2.06-2.06.94z\"/><path d=\"M17.41 7.96l-1.37-1.37c-.4-.4-.92-.59-1.43-.59-.52 0-1.04.2-1.43.59L10.3 9.45l-7.72 7.72c-.78.78-.78 2.05 0 2.83L4 21.41c.39.39.9.59 1.41.59.51 0 1.02-.2 1.41-.59l7.78-7.78 2.81-2.81c.8-.78.8-2.07 0-2.86zM5.41 20L4 18.59l7.72-7.72 1.47 1.35L5.41 20z\"/>\n",
              "  </svg>\n",
              "      </button>\n",
              "      \n",
              "  <style>\n",
              "    .colab-df-container {\n",
              "      display:flex;\n",
              "      flex-wrap:wrap;\n",
              "      gap: 12px;\n",
              "    }\n",
              "\n",
              "    .colab-df-convert {\n",
              "      background-color: #E8F0FE;\n",
              "      border: none;\n",
              "      border-radius: 50%;\n",
              "      cursor: pointer;\n",
              "      display: none;\n",
              "      fill: #1967D2;\n",
              "      height: 32px;\n",
              "      padding: 0 0 0 0;\n",
              "      width: 32px;\n",
              "    }\n",
              "\n",
              "    .colab-df-convert:hover {\n",
              "      background-color: #E2EBFA;\n",
              "      box-shadow: 0px 1px 2px rgba(60, 64, 67, 0.3), 0px 1px 3px 1px rgba(60, 64, 67, 0.15);\n",
              "      fill: #174EA6;\n",
              "    }\n",
              "\n",
              "    [theme=dark] .colab-df-convert {\n",
              "      background-color: #3B4455;\n",
              "      fill: #D2E3FC;\n",
              "    }\n",
              "\n",
              "    [theme=dark] .colab-df-convert:hover {\n",
              "      background-color: #434B5C;\n",
              "      box-shadow: 0px 1px 3px 1px rgba(0, 0, 0, 0.15);\n",
              "      filter: drop-shadow(0px 1px 2px rgba(0, 0, 0, 0.3));\n",
              "      fill: #FFFFFF;\n",
              "    }\n",
              "  </style>\n",
              "\n",
              "      <script>\n",
              "        const buttonEl =\n",
              "          document.querySelector('#df-a68eaef8-df27-4fb6-ab52-6febffc0ebc6 button.colab-df-convert');\n",
              "        buttonEl.style.display =\n",
              "          google.colab.kernel.accessAllowed ? 'block' : 'none';\n",
              "\n",
              "        async function convertToInteractive(key) {\n",
              "          const element = document.querySelector('#df-a68eaef8-df27-4fb6-ab52-6febffc0ebc6');\n",
              "          const dataTable =\n",
              "            await google.colab.kernel.invokeFunction('convertToInteractive',\n",
              "                                                     [key], {});\n",
              "          if (!dataTable) return;\n",
              "\n",
              "          const docLinkHtml = 'Like what you see? Visit the ' +\n",
              "            '<a target=\"_blank\" href=https://colab.research.google.com/notebooks/data_table.ipynb>data table notebook</a>'\n",
              "            + ' to learn more about interactive tables.';\n",
              "          element.innerHTML = '';\n",
              "          dataTable['output_type'] = 'display_data';\n",
              "          await google.colab.output.renderOutput(dataTable, element);\n",
              "          const docLink = document.createElement('div');\n",
              "          docLink.innerHTML = docLinkHtml;\n",
              "          element.appendChild(docLink);\n",
              "        }\n",
              "      </script>\n",
              "    </div>\n",
              "  </div>\n",
              "  "
            ]
          },
          "metadata": {},
          "execution_count": 80
        }
      ]
    },
    {
      "cell_type": "markdown",
      "source": [
        "Let's Check Calculation"
      ],
      "metadata": {
        "id": "QCyvf5vaAAHN"
      }
    },
    {
      "cell_type": "code",
      "source": [
        "# Checking for the order total if all the discount and delivery charges applied is correct\n",
        "\n",
        "dirty_data.loc[:,['order_price', 'delivery_charges', 'coupon_discount', 'order_total']].head(10)"
      ],
      "metadata": {
        "id": "chpHW4sOetxJ",
        "colab": {
          "base_uri": "https://localhost:8080/",
          "height": 363
        },
        "outputId": "f7be0083-5b32-4815-9568-83a4b585ea25"
      },
      "execution_count": 81,
      "outputs": [
        {
          "output_type": "execute_result",
          "data": {
            "text/plain": [
              "   order_price  delivery_charges  coupon_discount  order_total\n",
              "0      12200.0             79.89               10     11059.89\n",
              "1       9080.0             62.71                0      9142.71\n",
              "2      10670.0             65.87               10      9668.87\n",
              "3      24800.0             57.61               15     21137.61\n",
              "4       9145.0             75.54               25      6934.29\n",
              "5       7810.0             71.22               10      7100.22\n",
              "6      13700.0             74.84                5     13089.84\n",
              "7       7960.0             52.28                5     10789.79\n",
              "8      25390.0            107.58               10     22958.58\n",
              "9      13320.0             62.26               15     11384.26"
            ],
            "text/html": [
              "\n",
              "  <div id=\"df-5b03e9c2-8d67-4bc9-acdb-2c8cabb8275b\">\n",
              "    <div class=\"colab-df-container\">\n",
              "      <div>\n",
              "<style scoped>\n",
              "    .dataframe tbody tr th:only-of-type {\n",
              "        vertical-align: middle;\n",
              "    }\n",
              "\n",
              "    .dataframe tbody tr th {\n",
              "        vertical-align: top;\n",
              "    }\n",
              "\n",
              "    .dataframe thead th {\n",
              "        text-align: right;\n",
              "    }\n",
              "</style>\n",
              "<table border=\"1\" class=\"dataframe\">\n",
              "  <thead>\n",
              "    <tr style=\"text-align: right;\">\n",
              "      <th></th>\n",
              "      <th>order_price</th>\n",
              "      <th>delivery_charges</th>\n",
              "      <th>coupon_discount</th>\n",
              "      <th>order_total</th>\n",
              "    </tr>\n",
              "  </thead>\n",
              "  <tbody>\n",
              "    <tr>\n",
              "      <th>0</th>\n",
              "      <td>12200.0</td>\n",
              "      <td>79.89</td>\n",
              "      <td>10</td>\n",
              "      <td>11059.89</td>\n",
              "    </tr>\n",
              "    <tr>\n",
              "      <th>1</th>\n",
              "      <td>9080.0</td>\n",
              "      <td>62.71</td>\n",
              "      <td>0</td>\n",
              "      <td>9142.71</td>\n",
              "    </tr>\n",
              "    <tr>\n",
              "      <th>2</th>\n",
              "      <td>10670.0</td>\n",
              "      <td>65.87</td>\n",
              "      <td>10</td>\n",
              "      <td>9668.87</td>\n",
              "    </tr>\n",
              "    <tr>\n",
              "      <th>3</th>\n",
              "      <td>24800.0</td>\n",
              "      <td>57.61</td>\n",
              "      <td>15</td>\n",
              "      <td>21137.61</td>\n",
              "    </tr>\n",
              "    <tr>\n",
              "      <th>4</th>\n",
              "      <td>9145.0</td>\n",
              "      <td>75.54</td>\n",
              "      <td>25</td>\n",
              "      <td>6934.29</td>\n",
              "    </tr>\n",
              "    <tr>\n",
              "      <th>5</th>\n",
              "      <td>7810.0</td>\n",
              "      <td>71.22</td>\n",
              "      <td>10</td>\n",
              "      <td>7100.22</td>\n",
              "    </tr>\n",
              "    <tr>\n",
              "      <th>6</th>\n",
              "      <td>13700.0</td>\n",
              "      <td>74.84</td>\n",
              "      <td>5</td>\n",
              "      <td>13089.84</td>\n",
              "    </tr>\n",
              "    <tr>\n",
              "      <th>7</th>\n",
              "      <td>7960.0</td>\n",
              "      <td>52.28</td>\n",
              "      <td>5</td>\n",
              "      <td>10789.79</td>\n",
              "    </tr>\n",
              "    <tr>\n",
              "      <th>8</th>\n",
              "      <td>25390.0</td>\n",
              "      <td>107.58</td>\n",
              "      <td>10</td>\n",
              "      <td>22958.58</td>\n",
              "    </tr>\n",
              "    <tr>\n",
              "      <th>9</th>\n",
              "      <td>13320.0</td>\n",
              "      <td>62.26</td>\n",
              "      <td>15</td>\n",
              "      <td>11384.26</td>\n",
              "    </tr>\n",
              "  </tbody>\n",
              "</table>\n",
              "</div>\n",
              "      <button class=\"colab-df-convert\" onclick=\"convertToInteractive('df-5b03e9c2-8d67-4bc9-acdb-2c8cabb8275b')\"\n",
              "              title=\"Convert this dataframe to an interactive table.\"\n",
              "              style=\"display:none;\">\n",
              "        \n",
              "  <svg xmlns=\"http://www.w3.org/2000/svg\" height=\"24px\"viewBox=\"0 0 24 24\"\n",
              "       width=\"24px\">\n",
              "    <path d=\"M0 0h24v24H0V0z\" fill=\"none\"/>\n",
              "    <path d=\"M18.56 5.44l.94 2.06.94-2.06 2.06-.94-2.06-.94-.94-2.06-.94 2.06-2.06.94zm-11 1L8.5 8.5l.94-2.06 2.06-.94-2.06-.94L8.5 2.5l-.94 2.06-2.06.94zm10 10l.94 2.06.94-2.06 2.06-.94-2.06-.94-.94-2.06-.94 2.06-2.06.94z\"/><path d=\"M17.41 7.96l-1.37-1.37c-.4-.4-.92-.59-1.43-.59-.52 0-1.04.2-1.43.59L10.3 9.45l-7.72 7.72c-.78.78-.78 2.05 0 2.83L4 21.41c.39.39.9.59 1.41.59.51 0 1.02-.2 1.41-.59l7.78-7.78 2.81-2.81c.8-.78.8-2.07 0-2.86zM5.41 20L4 18.59l7.72-7.72 1.47 1.35L5.41 20z\"/>\n",
              "  </svg>\n",
              "      </button>\n",
              "      \n",
              "  <style>\n",
              "    .colab-df-container {\n",
              "      display:flex;\n",
              "      flex-wrap:wrap;\n",
              "      gap: 12px;\n",
              "    }\n",
              "\n",
              "    .colab-df-convert {\n",
              "      background-color: #E8F0FE;\n",
              "      border: none;\n",
              "      border-radius: 50%;\n",
              "      cursor: pointer;\n",
              "      display: none;\n",
              "      fill: #1967D2;\n",
              "      height: 32px;\n",
              "      padding: 0 0 0 0;\n",
              "      width: 32px;\n",
              "    }\n",
              "\n",
              "    .colab-df-convert:hover {\n",
              "      background-color: #E2EBFA;\n",
              "      box-shadow: 0px 1px 2px rgba(60, 64, 67, 0.3), 0px 1px 3px 1px rgba(60, 64, 67, 0.15);\n",
              "      fill: #174EA6;\n",
              "    }\n",
              "\n",
              "    [theme=dark] .colab-df-convert {\n",
              "      background-color: #3B4455;\n",
              "      fill: #D2E3FC;\n",
              "    }\n",
              "\n",
              "    [theme=dark] .colab-df-convert:hover {\n",
              "      background-color: #434B5C;\n",
              "      box-shadow: 0px 1px 3px 1px rgba(0, 0, 0, 0.15);\n",
              "      filter: drop-shadow(0px 1px 2px rgba(0, 0, 0, 0.3));\n",
              "      fill: #FFFFFF;\n",
              "    }\n",
              "  </style>\n",
              "\n",
              "      <script>\n",
              "        const buttonEl =\n",
              "          document.querySelector('#df-5b03e9c2-8d67-4bc9-acdb-2c8cabb8275b button.colab-df-convert');\n",
              "        buttonEl.style.display =\n",
              "          google.colab.kernel.accessAllowed ? 'block' : 'none';\n",
              "\n",
              "        async function convertToInteractive(key) {\n",
              "          const element = document.querySelector('#df-5b03e9c2-8d67-4bc9-acdb-2c8cabb8275b');\n",
              "          const dataTable =\n",
              "            await google.colab.kernel.invokeFunction('convertToInteractive',\n",
              "                                                     [key], {});\n",
              "          if (!dataTable) return;\n",
              "\n",
              "          const docLinkHtml = 'Like what you see? Visit the ' +\n",
              "            '<a target=\"_blank\" href=https://colab.research.google.com/notebooks/data_table.ipynb>data table notebook</a>'\n",
              "            + ' to learn more about interactive tables.';\n",
              "          element.innerHTML = '';\n",
              "          dataTable['output_type'] = 'display_data';\n",
              "          await google.colab.output.renderOutput(dataTable, element);\n",
              "          const docLink = document.createElement('div');\n",
              "          docLink.innerHTML = docLinkHtml;\n",
              "          element.appendChild(docLink);\n",
              "        }\n",
              "      </script>\n",
              "    </div>\n",
              "  </div>\n",
              "  "
            ]
          },
          "metadata": {},
          "execution_count": 81
        }
      ]
    },
    {
      "cell_type": "code",
      "source": [
        "# Formula: (order_price - (order_price\t*coupon_discount)/100) + delivery_charges= Final_Price"
      ],
      "metadata": {
        "id": "yKXZXThOetz6"
      },
      "execution_count": 55,
      "outputs": []
    },
    {
      "cell_type": "markdown",
      "source": [
        "First Check for 10 recordes to correct and varify calculations"
      ],
      "metadata": {
        "id": "P_sMFP0TDQpL"
      }
    },
    {
      "cell_type": "code",
      "source": [
        "for i, index in enumerate(range(0,10)):\n",
        "  if(dirty_data['coupon_discount'][i]!= 0):\n",
        "    dis_price= (dirty_data['order_price'][i]-(dirty_data['order_total'][i]* dirty_data['coupon_discount'][i]/100)) #calculation of discounted price\n",
        "    price= dis_price + dirty_data['delivery_charges'][i] #adding delivery charges\n",
        "    final_price= np.round(price,2)\n",
        "  else:\n",
        "    final_price= dirty_data['order_price'][i]+ dirty_data['delivery_charges'][i] #adding oorder price and delivery charges\n",
        "    final_price= np.round(final_price,2) # rounding off upto 2 decimal places\n",
        "\n",
        "  print(f'Order total of record at index {index} is: {final_price} ')"
      ],
      "metadata": {
        "id": "CKE5lrwAet3G",
        "colab": {
          "base_uri": "https://localhost:8080/"
        },
        "outputId": "d6f93765-4cd7-49c4-ac8e-6dbc09e6e11a"
      },
      "execution_count": 95,
      "outputs": [
        {
          "output_type": "stream",
          "name": "stdout",
          "text": [
            "Order total of record at index 0 is: 11173.9 \n",
            "Order total of record at index 1 is: 9142.71 \n",
            "Order total of record at index 2 is: 9768.98 \n",
            "Order total of record at index 3 is: 21686.97 \n",
            "Order total of record at index 4 is: 7486.97 \n",
            "Order total of record at index 5 is: 7171.2 \n",
            "Order total of record at index 6 is: 13120.35 \n",
            "Order total of record at index 7 is: 7472.79 \n",
            "Order total of record at index 8 is: 23201.72 \n",
            "Order total of record at index 9 is: 11674.62 \n"
          ]
        }
      ]
    },
    {
      "cell_type": "code",
      "source": [],
      "metadata": {
        "id": "c4tHfeXAet6R"
      },
      "execution_count": 55,
      "outputs": []
    },
    {
      "cell_type": "code",
      "source": [],
      "metadata": {
        "id": "YzdZMWy8et9B"
      },
      "execution_count": 55,
      "outputs": []
    },
    {
      "cell_type": "code",
      "source": [],
      "metadata": {
        "id": "AzHlaEJeet_t"
      },
      "execution_count": 55,
      "outputs": []
    },
    {
      "cell_type": "code",
      "source": [],
      "metadata": {
        "id": "T5rLPx8teuCb"
      },
      "execution_count": 55,
      "outputs": []
    },
    {
      "cell_type": "code",
      "source": [],
      "metadata": {
        "id": "XjY533T5euFy"
      },
      "execution_count": 55,
      "outputs": []
    },
    {
      "cell_type": "code",
      "source": [],
      "metadata": {
        "id": "HhAKkX8leuIi"
      },
      "execution_count": 55,
      "outputs": []
    },
    {
      "cell_type": "code",
      "source": [],
      "metadata": {
        "id": "IWV4MkvHeuLP"
      },
      "execution_count": 55,
      "outputs": []
    },
    {
      "cell_type": "code",
      "source": [],
      "metadata": {
        "id": "nBfWz5eueuOL"
      },
      "execution_count": 55,
      "outputs": []
    },
    {
      "cell_type": "code",
      "source": [],
      "metadata": {
        "id": "gy08uAkqeuQ8"
      },
      "execution_count": 55,
      "outputs": []
    },
    {
      "cell_type": "code",
      "source": [],
      "metadata": {
        "id": "zDWPzjk1euT7"
      },
      "execution_count": 55,
      "outputs": []
    },
    {
      "cell_type": "code",
      "source": [],
      "metadata": {
        "id": "2OyxY31aeuW1"
      },
      "execution_count": 55,
      "outputs": []
    },
    {
      "cell_type": "code",
      "source": [],
      "metadata": {
        "id": "xypnBgI-euaV"
      },
      "execution_count": 55,
      "outputs": []
    },
    {
      "cell_type": "code",
      "source": [],
      "metadata": {
        "id": "XEbftJyseudJ"
      },
      "execution_count": 55,
      "outputs": []
    },
    {
      "cell_type": "code",
      "source": [],
      "metadata": {
        "id": "7xs8PJ55eui1"
      },
      "execution_count": 55,
      "outputs": []
    },
    {
      "cell_type": "code",
      "source": [],
      "metadata": {
        "id": "Wmtg_8greuql"
      },
      "execution_count": 55,
      "outputs": []
    },
    {
      "cell_type": "code",
      "source": [],
      "metadata": {
        "id": "rzmHNIoIeuun"
      },
      "execution_count": 55,
      "outputs": []
    },
    {
      "cell_type": "code",
      "source": [],
      "metadata": {
        "id": "HY0hQTkJeuxn"
      },
      "execution_count": 55,
      "outputs": []
    },
    {
      "cell_type": "code",
      "source": [],
      "metadata": {
        "id": "PLiIy5I4eu1L"
      },
      "execution_count": 55,
      "outputs": []
    },
    {
      "cell_type": "code",
      "source": [],
      "metadata": {
        "id": "XzPlUP3Ueu5C"
      },
      "execution_count": 55,
      "outputs": []
    },
    {
      "cell_type": "code",
      "source": [],
      "metadata": {
        "id": "CEhuuSvNeu72"
      },
      "execution_count": 55,
      "outputs": []
    },
    {
      "cell_type": "code",
      "source": [],
      "metadata": {
        "id": "LsQ6Lobgeu_B"
      },
      "execution_count": 55,
      "outputs": []
    },
    {
      "cell_type": "code",
      "source": [],
      "metadata": {
        "id": "jQyrLym-evCi"
      },
      "execution_count": 55,
      "outputs": []
    },
    {
      "cell_type": "code",
      "source": [],
      "metadata": {
        "id": "PzK_hKYXevGI"
      },
      "execution_count": 55,
      "outputs": []
    },
    {
      "cell_type": "code",
      "source": [],
      "metadata": {
        "id": "pDXseou2evLi"
      },
      "execution_count": 55,
      "outputs": []
    },
    {
      "cell_type": "code",
      "source": [],
      "metadata": {
        "id": "BUvHGCCcevPC"
      },
      "execution_count": 55,
      "outputs": []
    },
    {
      "cell_type": "code",
      "source": [],
      "metadata": {
        "id": "Sos1t4DZevTc"
      },
      "execution_count": 55,
      "outputs": []
    },
    {
      "cell_type": "code",
      "source": [],
      "metadata": {
        "id": "uA6rASdAevW1"
      },
      "execution_count": 55,
      "outputs": []
    },
    {
      "cell_type": "code",
      "source": [],
      "metadata": {
        "id": "9t1Q1Xv6evbZ"
      },
      "execution_count": 55,
      "outputs": []
    },
    {
      "cell_type": "code",
      "source": [],
      "metadata": {
        "id": "Mh_7D1RFeveu"
      },
      "execution_count": 55,
      "outputs": []
    },
    {
      "cell_type": "code",
      "source": [],
      "metadata": {
        "id": "bujAfSeueviU"
      },
      "execution_count": 55,
      "outputs": []
    },
    {
      "cell_type": "code",
      "source": [],
      "metadata": {
        "id": "n32ePuSfevlp"
      },
      "execution_count": 55,
      "outputs": []
    },
    {
      "cell_type": "code",
      "source": [],
      "metadata": {
        "id": "B8sNV4Jyevoz"
      },
      "execution_count": 55,
      "outputs": []
    },
    {
      "cell_type": "code",
      "source": [],
      "metadata": {
        "id": "Kqf5ajdhevrz"
      },
      "execution_count": 55,
      "outputs": []
    },
    {
      "cell_type": "code",
      "source": [],
      "metadata": {
        "id": "UDmGKdTuevuq"
      },
      "execution_count": 55,
      "outputs": []
    },
    {
      "cell_type": "code",
      "source": [],
      "metadata": {
        "id": "8ZxegmBmevxh"
      },
      "execution_count": 55,
      "outputs": []
    },
    {
      "cell_type": "code",
      "source": [],
      "metadata": {
        "id": "b6rYPavvY6M8"
      },
      "execution_count": 55,
      "outputs": []
    },
    {
      "cell_type": "code",
      "source": [],
      "metadata": {
        "id": "eCftA1mzY6PM"
      },
      "execution_count": 55,
      "outputs": []
    }
  ]
}